{
 "cells": [
  {
   "cell_type": "markdown",
   "id": "b017212e-6ff3-4138-8ff5-7b4b75c57496",
   "metadata": {},
   "source": [
    "# EDA"
   ]
  },
  {
   "cell_type": "markdown",
   "id": "7e9c540a-ee7c-4870-8bf2-21358d9e3655",
   "metadata": {},
   "source": [
    "### import required packages"
   ]
  },
  {
   "cell_type": "code",
   "execution_count": 1,
   "id": "fcca60ce-d478-4c30-83a3-0c4d0e09f4bc",
   "metadata": {},
   "outputs": [],
   "source": [
    "\n",
    "import pandas as pd # for data wrangling purpose\n",
    "import numpy as np # Basic computation library\n",
    "import seaborn as sns # For Visualization \n",
    "import matplotlib.pyplot as plt # ploting package\n",
    "from sklearn.preprocessing import OneHotEncoder,MinMaxScaler,LabelEncoder\n",
    "\n",
    "%matplotlib inline\n",
    "import warnings # Filtering warnings\n",
    "warnings.filterwarnings('ignore')"
   ]
  },
  {
   "cell_type": "markdown",
   "id": "c33ea7f8-6915-4a78-89fe-67c31638d219",
   "metadata": {},
   "source": [
    "### load the data"
   ]
  },
  {
   "cell_type": "code",
   "execution_count": 2,
   "id": "97d344ae-c5a3-4824-aa84-adea092a855b",
   "metadata": {},
   "outputs": [
    {
     "data": {
      "text/html": [
       "<div>\n",
       "<style scoped>\n",
       "    .dataframe tbody tr th:only-of-type {\n",
       "        vertical-align: middle;\n",
       "    }\n",
       "\n",
       "    .dataframe tbody tr th {\n",
       "        vertical-align: top;\n",
       "    }\n",
       "\n",
       "    .dataframe thead th {\n",
       "        text-align: right;\n",
       "    }\n",
       "</style>\n",
       "<table border=\"1\" class=\"dataframe\">\n",
       "  <thead>\n",
       "    <tr style=\"text-align: right;\">\n",
       "      <th></th>\n",
       "      <th>airline</th>\n",
       "      <th>flight</th>\n",
       "      <th>source_city</th>\n",
       "      <th>departure_time</th>\n",
       "      <th>stops</th>\n",
       "      <th>arrival_time</th>\n",
       "      <th>destination_city</th>\n",
       "      <th>class</th>\n",
       "      <th>duration</th>\n",
       "      <th>days_left</th>\n",
       "      <th>price</th>\n",
       "    </tr>\n",
       "  </thead>\n",
       "  <tbody>\n",
       "    <tr>\n",
       "      <th>0</th>\n",
       "      <td>Indigo</td>\n",
       "      <td>6E-716</td>\n",
       "      <td>Kolkata</td>\n",
       "      <td>Night</td>\n",
       "      <td>zero</td>\n",
       "      <td>Late_Night</td>\n",
       "      <td>Bangalore</td>\n",
       "      <td>Economy</td>\n",
       "      <td>2.75</td>\n",
       "      <td>11.0</td>\n",
       "      <td>5840.1000</td>\n",
       "    </tr>\n",
       "    <tr>\n",
       "      <th>1</th>\n",
       "      <td>Air India</td>\n",
       "      <td>AI-2401</td>\n",
       "      <td>Mumbai</td>\n",
       "      <td>Night</td>\n",
       "      <td>two_or_more</td>\n",
       "      <td>Afternoon</td>\n",
       "      <td>Delhi</td>\n",
       "      <td>Economy</td>\n",
       "      <td>15.17</td>\n",
       "      <td>44.0</td>\n",
       "      <td>19788.3400</td>\n",
       "    </tr>\n",
       "    <tr>\n",
       "      <th>2</th>\n",
       "      <td>Air_India</td>\n",
       "      <td>AI-402</td>\n",
       "      <td>Kolkata</td>\n",
       "      <td>Morning</td>\n",
       "      <td>one</td>\n",
       "      <td>Late_Night</td>\n",
       "      <td>Bangalore</td>\n",
       "      <td>Business</td>\n",
       "      <td>13.75</td>\n",
       "      <td>43.0</td>\n",
       "      <td>67075.8000</td>\n",
       "    </tr>\n",
       "    <tr>\n",
       "      <th>3</th>\n",
       "      <td>Vistara</td>\n",
       "      <td>UK-870</td>\n",
       "      <td>Hyderabad</td>\n",
       "      <td>Night</td>\n",
       "      <td>one</td>\n",
       "      <td>Evening</td>\n",
       "      <td>Mumbai</td>\n",
       "      <td>Business</td>\n",
       "      <td>19.92</td>\n",
       "      <td>18.0</td>\n",
       "      <td>106146.2307</td>\n",
       "    </tr>\n",
       "    <tr>\n",
       "      <th>4</th>\n",
       "      <td>GO_FIRST</td>\n",
       "      <td>G8-505</td>\n",
       "      <td>Chennai</td>\n",
       "      <td>Evening</td>\n",
       "      <td>one</td>\n",
       "      <td>Late_Night</td>\n",
       "      <td>Delhi</td>\n",
       "      <td>Economy</td>\n",
       "      <td>7.00</td>\n",
       "      <td>21.0</td>\n",
       "      <td>2983.2000</td>\n",
       "    </tr>\n",
       "  </tbody>\n",
       "</table>\n",
       "</div>"
      ],
      "text/plain": [
       "     airline   flight source_city departure_time        stops arrival_time  \\\n",
       "0     Indigo   6E-716     Kolkata          Night         zero   Late_Night   \n",
       "1  Air India  AI-2401      Mumbai          Night  two_or_more    Afternoon   \n",
       "2  Air_India   AI-402     Kolkata        Morning          one   Late_Night   \n",
       "3    Vistara   UK-870   Hyderabad          Night          one      Evening   \n",
       "4   GO_FIRST   G8-505     Chennai        Evening          one   Late_Night   \n",
       "\n",
       "  destination_city     class  duration  days_left        price  \n",
       "0        Bangalore   Economy      2.75       11.0    5840.1000  \n",
       "1            Delhi   Economy     15.17       44.0   19788.3400  \n",
       "2        Bangalore  Business     13.75       43.0   67075.8000  \n",
       "3           Mumbai  Business     19.92       18.0  106146.2307  \n",
       "4            Delhi   Economy      7.00       21.0    2983.2000  "
      ]
     },
     "execution_count": 2,
     "metadata": {},
     "output_type": "execute_result"
    }
   ],
   "source": [
    "df = pd.read_csv('updated_output10.csv')\n",
    "df.head()"
   ]
  },
  {
   "cell_type": "code",
   "execution_count": 3,
   "id": "d04fc1fe-c237-4c32-9e80-14c7e31998de",
   "metadata": {},
   "outputs": [
    {
     "data": {
      "text/html": [
       "<div>\n",
       "<style scoped>\n",
       "    .dataframe tbody tr th:only-of-type {\n",
       "        vertical-align: middle;\n",
       "    }\n",
       "\n",
       "    .dataframe tbody tr th {\n",
       "        vertical-align: top;\n",
       "    }\n",
       "\n",
       "    .dataframe thead th {\n",
       "        text-align: right;\n",
       "    }\n",
       "</style>\n",
       "<table border=\"1\" class=\"dataframe\">\n",
       "  <thead>\n",
       "    <tr style=\"text-align: right;\">\n",
       "      <th></th>\n",
       "      <th>airline</th>\n",
       "      <th>flight</th>\n",
       "      <th>source_city</th>\n",
       "      <th>departure_time</th>\n",
       "      <th>stops</th>\n",
       "      <th>arrival_time</th>\n",
       "      <th>destination_city</th>\n",
       "      <th>class</th>\n",
       "      <th>duration</th>\n",
       "      <th>days_left</th>\n",
       "      <th>price</th>\n",
       "    </tr>\n",
       "  </thead>\n",
       "  <tbody>\n",
       "    <tr>\n",
       "      <th>49995</th>\n",
       "      <td>GO_FIRST</td>\n",
       "      <td>G8-334</td>\n",
       "      <td>Delhi</td>\n",
       "      <td>Early_Morning</td>\n",
       "      <td>one</td>\n",
       "      <td>Evening</td>\n",
       "      <td>Kolkata</td>\n",
       "      <td>Economy</td>\n",
       "      <td>9.50</td>\n",
       "      <td>34.0</td>\n",
       "      <td>7737.95</td>\n",
       "    </tr>\n",
       "    <tr>\n",
       "      <th>49996</th>\n",
       "      <td>Vistara</td>\n",
       "      <td>UK-776</td>\n",
       "      <td>Kolkata</td>\n",
       "      <td>Evening</td>\n",
       "      <td>one</td>\n",
       "      <td>Afternoon</td>\n",
       "      <td>Delhi</td>\n",
       "      <td>Economy</td>\n",
       "      <td>22.08</td>\n",
       "      <td>16.0</td>\n",
       "      <td>9568.35</td>\n",
       "    </tr>\n",
       "    <tr>\n",
       "      <th>49997</th>\n",
       "      <td>GO_FIRST</td>\n",
       "      <td>G8-319</td>\n",
       "      <td>Mumbai</td>\n",
       "      <td>Morning</td>\n",
       "      <td>one</td>\n",
       "      <td>Night</td>\n",
       "      <td>Bangalore</td>\n",
       "      <td>Economy</td>\n",
       "      <td>13.25</td>\n",
       "      <td>48.0</td>\n",
       "      <td>6319.00</td>\n",
       "    </tr>\n",
       "    <tr>\n",
       "      <th>49998</th>\n",
       "      <td>GO_FIRST</td>\n",
       "      <td>G8-171</td>\n",
       "      <td>Delhi</td>\n",
       "      <td>Evening</td>\n",
       "      <td>one</td>\n",
       "      <td>Early_Morning</td>\n",
       "      <td>Kolkata</td>\n",
       "      <td>Economy</td>\n",
       "      <td>13.25</td>\n",
       "      <td>37.0</td>\n",
       "      <td>8557.12</td>\n",
       "    </tr>\n",
       "    <tr>\n",
       "      <th>49999</th>\n",
       "      <td>Air_India</td>\n",
       "      <td>AI-804</td>\n",
       "      <td>Bangalore</td>\n",
       "      <td>Early_Morning</td>\n",
       "      <td>one</td>\n",
       "      <td>Evening</td>\n",
       "      <td>Hyderabad</td>\n",
       "      <td>Economy</td>\n",
       "      <td>35.42</td>\n",
       "      <td>49.0</td>\n",
       "      <td>12208.90</td>\n",
       "    </tr>\n",
       "  </tbody>\n",
       "</table>\n",
       "</div>"
      ],
      "text/plain": [
       "         airline  flight source_city departure_time stops   arrival_time  \\\n",
       "49995   GO_FIRST  G8-334       Delhi  Early_Morning   one        Evening   \n",
       "49996    Vistara  UK-776     Kolkata        Evening   one      Afternoon   \n",
       "49997   GO_FIRST  G8-319      Mumbai        Morning   one          Night   \n",
       "49998   GO_FIRST  G8-171       Delhi        Evening   one  Early_Morning   \n",
       "49999  Air_India  AI-804   Bangalore  Early_Morning   one        Evening   \n",
       "\n",
       "      destination_city    class  duration  days_left     price  \n",
       "49995          Kolkata  Economy      9.50       34.0   7737.95  \n",
       "49996            Delhi  Economy     22.08       16.0   9568.35  \n",
       "49997        Bangalore  Economy     13.25       48.0   6319.00  \n",
       "49998          Kolkata  Economy     13.25       37.0   8557.12  \n",
       "49999        Hyderabad  Economy     35.42       49.0  12208.90  "
      ]
     },
     "execution_count": 3,
     "metadata": {},
     "output_type": "execute_result"
    }
   ],
   "source": [
    "df.tail()"
   ]
  },
  {
   "cell_type": "code",
   "execution_count": 4,
   "id": "9c4ad610-1dbf-4616-b8dd-696c32c32626",
   "metadata": {},
   "outputs": [
    {
     "name": "stdout",
     "output_type": "stream",
     "text": [
      "No of Rows: 50000\n",
      "No of Columns: 11\n"
     ]
    }
   ],
   "source": [
    "print('No of Rows:',df.shape[0])\n",
    "print('No of Columns:',df.shape[1])"
   ]
  },
  {
   "cell_type": "code",
   "execution_count": 5,
   "id": "fe8e5dfa-d6ac-40da-a93b-37818b499bbe",
   "metadata": {},
   "outputs": [
    {
     "name": "stdout",
     "output_type": "stream",
     "text": [
      "<class 'pandas.core.frame.DataFrame'>\n",
      "RangeIndex: 50000 entries, 0 to 49999\n",
      "Data columns (total 11 columns):\n",
      " #   Column            Non-Null Count  Dtype  \n",
      "---  ------            --------------  -----  \n",
      " 0   airline           49530 non-null  object \n",
      " 1   flight            49530 non-null  object \n",
      " 2   source_city       49530 non-null  object \n",
      " 3   departure_time    49530 non-null  object \n",
      " 4   stops             49530 non-null  object \n",
      " 5   arrival_time      49530 non-null  object \n",
      " 6   destination_city  49530 non-null  object \n",
      " 7   class             49527 non-null  object \n",
      " 8   duration          49530 non-null  float64\n",
      " 9   days_left         49604 non-null  float64\n",
      " 10  price             49531 non-null  float64\n",
      "dtypes: float64(3), object(8)\n",
      "memory usage: 4.2+ MB\n"
     ]
    }
   ],
   "source": [
    "df.info()"
   ]
  },
  {
   "cell_type": "markdown",
   "id": "475a4c4b-5351-40a7-a827-8ec2a8a0eba3",
   "metadata": {},
   "source": [
    "## Handling NA values"
   ]
  },
  {
   "cell_type": "code",
   "execution_count": 6,
   "id": "63972300-fe76-496a-8ed2-6181fa44b359",
   "metadata": {},
   "outputs": [
    {
     "data": {
      "text/plain": [
       "airline             470\n",
       "flight              470\n",
       "source_city         470\n",
       "departure_time      470\n",
       "stops               470\n",
       "arrival_time        470\n",
       "destination_city    470\n",
       "class               473\n",
       "duration            470\n",
       "days_left           396\n",
       "price               469\n",
       "dtype: int64"
      ]
     },
     "execution_count": 6,
     "metadata": {},
     "output_type": "execute_result"
    }
   ],
   "source": [
    "# check how many NA records are present\n",
    "df.isna().sum()"
   ]
  },
  {
   "cell_type": "code",
   "execution_count": 7,
   "id": "138fc1c0-07a7-42e1-ba0e-54f1a354557b",
   "metadata": {},
   "outputs": [
    {
     "data": {
      "text/plain": [
       "airline             470\n",
       "flight              470\n",
       "source_city         470\n",
       "departure_time      470\n",
       "stops               470\n",
       "arrival_time        470\n",
       "destination_city    470\n",
       "class               473\n",
       "duration            470\n",
       "days_left           396\n",
       "price               469\n",
       "dtype: int64"
      ]
     },
     "execution_count": 7,
     "metadata": {},
     "output_type": "execute_result"
    }
   ],
   "source": [
    "df.isnull().sum()"
   ]
  },
  {
   "cell_type": "code",
   "execution_count": 8,
   "id": "1a9b61a8-70f0-4dc6-ac51-76793b2061d1",
   "metadata": {},
   "outputs": [],
   "source": [
    "df.drop_duplicates(inplace=True)"
   ]
  },
  {
   "cell_type": "code",
   "execution_count": 9,
   "id": "7409995e-8e54-4914-bc47-d2f4e3ee74bb",
   "metadata": {},
   "outputs": [
    {
     "data": {
      "text/plain": [
       "airline             39\n",
       "flight              39\n",
       "source_city         39\n",
       "departure_time      39\n",
       "stops               39\n",
       "arrival_time        39\n",
       "destination_city    39\n",
       "class               42\n",
       "duration            39\n",
       "days_left            1\n",
       "price               38\n",
       "dtype: int64"
      ]
     },
     "execution_count": 9,
     "metadata": {},
     "output_type": "execute_result"
    }
   ],
   "source": [
    "df.isna().sum()"
   ]
  },
  {
   "cell_type": "code",
   "execution_count": 10,
   "id": "0b8d1612-1cee-4471-8e3c-ed6c108387f5",
   "metadata": {},
   "outputs": [],
   "source": [
    "df.dropna(inplace=True)"
   ]
  },
  {
   "cell_type": "code",
   "execution_count": 11,
   "id": "e3ff92ff-30d0-4626-a23a-657cf814543e",
   "metadata": {},
   "outputs": [
    {
     "data": {
      "text/plain": [
       "airline             0\n",
       "flight              0\n",
       "source_city         0\n",
       "departure_time      0\n",
       "stops               0\n",
       "arrival_time        0\n",
       "destination_city    0\n",
       "class               0\n",
       "duration            0\n",
       "days_left           0\n",
       "price               0\n",
       "dtype: int64"
      ]
     },
     "execution_count": 11,
     "metadata": {},
     "output_type": "execute_result"
    }
   ],
   "source": [
    "df.isna().sum()"
   ]
  },
  {
   "cell_type": "code",
   "execution_count": 12,
   "id": "f6d9533d-8ad1-49d9-bd3f-b59b386ee7e3",
   "metadata": {},
   "outputs": [
    {
     "data": {
      "text/html": [
       "<div>\n",
       "<style scoped>\n",
       "    .dataframe tbody tr th:only-of-type {\n",
       "        vertical-align: middle;\n",
       "    }\n",
       "\n",
       "    .dataframe tbody tr th {\n",
       "        vertical-align: top;\n",
       "    }\n",
       "\n",
       "    .dataframe thead th {\n",
       "        text-align: right;\n",
       "    }\n",
       "</style>\n",
       "<table border=\"1\" class=\"dataframe\">\n",
       "  <thead>\n",
       "    <tr style=\"text-align: right;\">\n",
       "      <th></th>\n",
       "      <th>duration</th>\n",
       "      <th>days_left</th>\n",
       "      <th>price</th>\n",
       "    </tr>\n",
       "  </thead>\n",
       "  <tbody>\n",
       "    <tr>\n",
       "      <th>count</th>\n",
       "      <td>49527.000000</td>\n",
       "      <td>49527.000000</td>\n",
       "      <td>49527.000000</td>\n",
       "    </tr>\n",
       "    <tr>\n",
       "      <th>mean</th>\n",
       "      <td>12.181146</td>\n",
       "      <td>26.047146</td>\n",
       "      <td>25535.737290</td>\n",
       "    </tr>\n",
       "    <tr>\n",
       "      <th>std</th>\n",
       "      <td>7.174562</td>\n",
       "      <td>13.541809</td>\n",
       "      <td>29313.888358</td>\n",
       "    </tr>\n",
       "    <tr>\n",
       "      <th>min</th>\n",
       "      <td>0.830000</td>\n",
       "      <td>1.000000</td>\n",
       "      <td>1013.018400</td>\n",
       "    </tr>\n",
       "    <tr>\n",
       "      <th>25%</th>\n",
       "      <td>6.750000</td>\n",
       "      <td>15.000000</td>\n",
       "      <td>5422.131000</td>\n",
       "    </tr>\n",
       "    <tr>\n",
       "      <th>50%</th>\n",
       "      <td>11.250000</td>\n",
       "      <td>26.000000</td>\n",
       "      <td>8762.784910</td>\n",
       "    </tr>\n",
       "    <tr>\n",
       "      <th>75%</th>\n",
       "      <td>16.080000</td>\n",
       "      <td>38.000000</td>\n",
       "      <td>48997.870095</td>\n",
       "    </tr>\n",
       "    <tr>\n",
       "      <th>max</th>\n",
       "      <td>47.750000</td>\n",
       "      <td>50.000000</td>\n",
       "      <td>189754.768600</td>\n",
       "    </tr>\n",
       "  </tbody>\n",
       "</table>\n",
       "</div>"
      ],
      "text/plain": [
       "           duration     days_left          price\n",
       "count  49527.000000  49527.000000   49527.000000\n",
       "mean      12.181146     26.047146   25535.737290\n",
       "std        7.174562     13.541809   29313.888358\n",
       "min        0.830000      1.000000    1013.018400\n",
       "25%        6.750000     15.000000    5422.131000\n",
       "50%       11.250000     26.000000    8762.784910\n",
       "75%       16.080000     38.000000   48997.870095\n",
       "max       47.750000     50.000000  189754.768600"
      ]
     },
     "execution_count": 12,
     "metadata": {},
     "output_type": "execute_result"
    }
   ],
   "source": [
    "df.describe()"
   ]
  },
  {
   "cell_type": "markdown",
   "id": "90f7f873-bbc6-426a-90d0-86980fb8bbab",
   "metadata": {},
   "source": [
    "### Data Integrity Check\n",
    "#### Since dataset is large, Let check for any entry which is repeated or duplicated in dataset."
   ]
  },
  {
   "cell_type": "code",
   "execution_count": 13,
   "id": "74e1a605-3bf9-4162-a433-527e464859d2",
   "metadata": {},
   "outputs": [
    {
     "data": {
      "text/plain": [
       "(0, 11)"
      ]
     },
     "execution_count": 13,
     "metadata": {},
     "output_type": "execute_result"
    }
   ],
   "source": [
    "# View only the duplicate rows\n",
    "duplicate_rows = df[df.duplicated()]\n",
    "duplicate_rows.shape"
   ]
  },
  {
   "cell_type": "markdown",
   "id": "e33ed436-7a5a-45a7-b1e6-c7a0cd2635f7",
   "metadata": {},
   "source": [
    "## Preprocessing"
   ]
  },
  {
   "cell_type": "code",
   "execution_count": 14,
   "id": "f8d2266a-9a4c-479c-abc6-d529e2a5cfea",
   "metadata": {},
   "outputs": [
    {
     "data": {
      "text/plain": [
       "{float64: ['duration', 'days_left', 'price'], object: ['airline', 'flight', 'source_city', 'departure_time', 'stops', 'arrival_time', 'destination_city', 'class']}"
      ]
     },
     "execution_count": 14,
     "metadata": {},
     "output_type": "execute_result"
    }
   ],
   "source": [
    "# Sort columns by datatypes\n",
    "df.columns.to_series().groupby(df.dtypes).groups"
   ]
  },
  {
   "cell_type": "markdown",
   "id": "4ca53351-6480-4d1f-b9d6-6726f0d343e7",
   "metadata": {},
   "source": [
    "### Expected Datatypes\n",
    "{int64: ['days_left', 'price'], float64: ['duration'], object: ['airline', 'flight', 'source_city', 'departure_time', 'stops', 'arrival_time', 'destination_city', 'class']}"
   ]
  },
  {
   "cell_type": "code",
   "execution_count": 15,
   "id": "d4f0401e-69ea-4b8b-8f17-f487db530a36",
   "metadata": {},
   "outputs": [],
   "source": [
    "# Spliting data into categorical and Numerical Variable\n",
    "Numerical =['duration', 'days_left', 'price']\n",
    "\n",
    "Categorical = [ 'airline', 'source_city', 'departure_time', 'stops', 'arrival_time', 'destination_city', 'class']"
   ]
  },
  {
   "cell_type": "code",
   "execution_count": 16,
   "id": "56ebd9a6-9081-4257-9bfc-2206f4de4b2f",
   "metadata": {},
   "outputs": [
    {
     "name": "stdout",
     "output_type": "stream",
     "text": [
      "Unique value counts of  airline Enlisted as Below Table :\n",
      "----------------------------------------\n",
      "airline\n",
      "Vistara              21035\n",
      "Air_India            13110\n",
      "Indigo                7215\n",
      "GO_FIRST              3794\n",
      "AirAsia               2673\n",
      "SpiceJet              1505\n",
      "Air India              162\n",
      "Air India Express       32\n",
      "AkasaAir                 1\n",
      "Name: count, dtype: int64\n",
      "************************************************************************************************************************\n",
      "Unique value counts of  source_city Enlisted as Below Table :\n",
      "----------------------------------------\n",
      "source_city\n",
      "Delhi        10123\n",
      "Mumbai       10046\n",
      "Bangalore     8538\n",
      "Kolkata       7658\n",
      "Hyderabad     6579\n",
      "Chennai       6497\n",
      "Bengaluru       58\n",
      "GOX             17\n",
      "Goa             11\n",
      "Name: count, dtype: int64\n",
      "************************************************************************************************************************\n",
      "Unique value counts of  departure_time Enlisted as Below Table :\n",
      "----------------------------------------\n",
      "departure_time\n",
      "Morning          11727\n",
      "Early_Morning    10890\n",
      "Evening          10714\n",
      "Night             8104\n",
      "Afternoon         7887\n",
      "Late_Night         205\n",
      "Name: count, dtype: int64\n",
      "************************************************************************************************************************\n",
      "Unique value counts of  stops Enlisted as Below Table :\n",
      "----------------------------------------\n",
      "stops\n",
      "one            41201\n",
      "zero            5956\n",
      "two_or_more     2370\n",
      "Name: count, dtype: int64\n",
      "************************************************************************************************************************\n",
      "Unique value counts of  arrival_time Enlisted as Below Table :\n",
      "----------------------------------------\n",
      "arrival_time\n",
      "Night            14983\n",
      "Evening          12934\n",
      "Morning          10377\n",
      "Afternoon         6293\n",
      "Early_Morning     2488\n",
      "Late_Night        2452\n",
      "Name: count, dtype: int64\n",
      "************************************************************************************************************************\n",
      "Unique value counts of  destination_city Enlisted as Below Table :\n",
      "----------------------------------------\n",
      "destination_city\n",
      "Mumbai       9735\n",
      "Delhi        9615\n",
      "Bangalore    8457\n",
      "Kolkata      8231\n",
      "Hyderabad    6870\n",
      "Chennai      6571\n",
      "Bengaluru      34\n",
      "Goa            11\n",
      "GOX             3\n",
      "Name: count, dtype: int64\n",
      "************************************************************************************************************************\n",
      "Unique value counts of  class Enlisted as Below Table :\n",
      "----------------------------------------\n",
      "class\n",
      "Economy                          34214\n",
      "Business                         15275\n",
      "OperatedBy: Vistara                 32\n",
      "OperatedBy: Air India Express        6\n",
      "Name: count, dtype: int64\n",
      "************************************************************************************************************************\n"
     ]
    }
   ],
   "source": [
    "for i in Categorical:\n",
    "    print('Unique value counts of ',i, 'Enlisted as Below Table :')\n",
    "    print('-'*40)\n",
    "    print(df[i].value_counts())\n",
    "    print(\"*\"*120)"
   ]
  },
  {
   "cell_type": "markdown",
   "id": "fcdd54da-8619-4e90-83e5-cecf2c552380",
   "metadata": {},
   "source": [
    "#### We also need to do some feature engineering on Source and Destination City columns, We can see at some place 'GOX' is mention and other places 'Goa' is mention.\n"
   ]
  },
  {
   "cell_type": "code",
   "execution_count": 17,
   "id": "0ba7afd5-41b9-44b5-8e20-71bf199099c4",
   "metadata": {},
   "outputs": [
    {
     "data": {
      "text/plain": [
       "source_city\n",
       "Delhi        10123\n",
       "Mumbai       10046\n",
       "Bangalore     8538\n",
       "Kolkata       7658\n",
       "Hyderabad     6579\n",
       "Chennai       6497\n",
       "Bengaluru       58\n",
       "Goa             28\n",
       "Name: count, dtype: int64"
      ]
     },
     "execution_count": 17,
     "metadata": {},
     "output_type": "execute_result"
    }
   ],
   "source": [
    "# Replacing \"GOX\" as \"Goa\" in source_city column\n",
    "df[\"source_city\"] = df[\"source_city\"].replace(\"GOX\",\"Goa\")\n",
    "df['source_city'].value_counts()"
   ]
  },
  {
   "cell_type": "code",
   "execution_count": 18,
   "id": "cbf4af2c",
   "metadata": {},
   "outputs": [
    {
     "data": {
      "text/plain": [
       "source_city\n",
       "Delhi        10123\n",
       "Mumbai       10046\n",
       "Bangalore     8596\n",
       "Kolkata       7658\n",
       "Hyderabad     6579\n",
       "Chennai       6497\n",
       "Goa             28\n",
       "Name: count, dtype: int64"
      ]
     },
     "execution_count": 18,
     "metadata": {},
     "output_type": "execute_result"
    }
   ],
   "source": [
    "df[\"source_city\"] = df[\"source_city\"].replace(\"Bengaluru\",\"Bangalore\")\n",
    "df['source_city'].value_counts()"
   ]
  },
  {
   "cell_type": "code",
   "execution_count": 19,
   "id": "43620f5f",
   "metadata": {},
   "outputs": [
    {
     "data": {
      "text/plain": [
       "airline\n",
       "Vistara              21035\n",
       "Air India            13272\n",
       "Indigo                7215\n",
       "GO_FIRST              3794\n",
       "AirAsia               2673\n",
       "SpiceJet              1505\n",
       "Air India Express       32\n",
       "AkasaAir                 1\n",
       "Name: count, dtype: int64"
      ]
     },
     "execution_count": 19,
     "metadata": {},
     "output_type": "execute_result"
    }
   ],
   "source": [
    "df[\"airline\"] = df[\"airline\"].replace(\"Air_India\",\"Air India\")\n",
    "df['airline'].value_counts()"
   ]
  },
  {
   "cell_type": "code",
   "execution_count": 20,
   "id": "c633b53e-5fc2-4ae9-9471-8a64e903761c",
   "metadata": {},
   "outputs": [
    {
     "data": {
      "text/plain": [
       "destination_city\n",
       "Mumbai       9735\n",
       "Delhi        9615\n",
       "Bangalore    8457\n",
       "Kolkata      8231\n",
       "Hyderabad    6870\n",
       "Chennai      6571\n",
       "Bengaluru      34\n",
       "Goa            14\n",
       "Name: count, dtype: int64"
      ]
     },
     "execution_count": 20,
     "metadata": {},
     "output_type": "execute_result"
    }
   ],
   "source": [
    "# Replacing \"GOX\" as \"Goa\" in destination_city column\n",
    "df[\"destination_city\"] = df[\"destination_city\"].replace(\"GOX\",\"Goa\")\n",
    "df['destination_city'].value_counts()"
   ]
  },
  {
   "cell_type": "code",
   "execution_count": 21,
   "id": "8ca54e9c",
   "metadata": {},
   "outputs": [
    {
     "data": {
      "text/plain": [
       "destination_city\n",
       "Mumbai       9735\n",
       "Delhi        9615\n",
       "Bangalore    8491\n",
       "Kolkata      8231\n",
       "Hyderabad    6870\n",
       "Chennai      6571\n",
       "Goa            14\n",
       "Name: count, dtype: int64"
      ]
     },
     "execution_count": 21,
     "metadata": {},
     "output_type": "execute_result"
    }
   ],
   "source": [
    "df[\"destination_city\"] = df[\"destination_city\"].replace(\"Bengaluru\",\"Bangalore\")\n",
    "df['destination_city'].value_counts()"
   ]
  },
  {
   "cell_type": "code",
   "execution_count": 22,
   "id": "93a0f0bd-23cc-48df-bb0e-9c158bfba89a",
   "metadata": {},
   "outputs": [],
   "source": [
    "df = df[~df['class'].isin(['OperatedBy: Vistara', 'OperatedBy: Air India Express'])]"
   ]
  },
  {
   "cell_type": "code",
   "execution_count": 23,
   "id": "aed93d49-9a36-4be6-9913-725edd90ace7",
   "metadata": {},
   "outputs": [],
   "source": [
    "# remove the unwanted columns\n",
    "df.drop(['flight'], axis=1, inplace=True)"
   ]
  },
  {
   "cell_type": "code",
   "execution_count": 24,
   "id": "625c954b-f2d3-4fdd-8b60-e3144e5657d8",
   "metadata": {},
   "outputs": [],
   "source": [
    "df['days_left'] = df['days_left'].astype(int)\n",
    "df['price'] = df['price'].astype(int)"
   ]
  },
  {
   "cell_type": "code",
   "execution_count": 25,
   "id": "73d6b819-fefb-46e3-840e-1266f388c159",
   "metadata": {},
   "outputs": [
    {
     "data": {
      "text/plain": [
       "{int32: ['days_left', 'price'], float64: ['duration'], object: ['airline', 'source_city', 'departure_time', 'stops', 'arrival_time', 'destination_city', 'class']}"
      ]
     },
     "execution_count": 25,
     "metadata": {},
     "output_type": "execute_result"
    }
   ],
   "source": [
    "df.columns.to_series().groupby(df.dtypes).groups"
   ]
  },
  {
   "cell_type": "code",
   "execution_count": 26,
   "id": "7cc54100-3607-42d6-8fa1-57ad090721b0",
   "metadata": {},
   "outputs": [
    {
     "data": {
      "text/html": [
       "<div>\n",
       "<style scoped>\n",
       "    .dataframe tbody tr th:only-of-type {\n",
       "        vertical-align: middle;\n",
       "    }\n",
       "\n",
       "    .dataframe tbody tr th {\n",
       "        vertical-align: top;\n",
       "    }\n",
       "\n",
       "    .dataframe thead th {\n",
       "        text-align: right;\n",
       "    }\n",
       "</style>\n",
       "<table border=\"1\" class=\"dataframe\">\n",
       "  <thead>\n",
       "    <tr style=\"text-align: right;\">\n",
       "      <th></th>\n",
       "      <th>airline</th>\n",
       "      <th>source_city</th>\n",
       "      <th>departure_time</th>\n",
       "      <th>stops</th>\n",
       "      <th>arrival_time</th>\n",
       "      <th>destination_city</th>\n",
       "      <th>class</th>\n",
       "      <th>duration</th>\n",
       "      <th>days_left</th>\n",
       "      <th>price</th>\n",
       "    </tr>\n",
       "  </thead>\n",
       "  <tbody>\n",
       "    <tr>\n",
       "      <th>0</th>\n",
       "      <td>Indigo</td>\n",
       "      <td>Kolkata</td>\n",
       "      <td>Night</td>\n",
       "      <td>zero</td>\n",
       "      <td>Late_Night</td>\n",
       "      <td>Bangalore</td>\n",
       "      <td>Economy</td>\n",
       "      <td>2.75</td>\n",
       "      <td>11</td>\n",
       "      <td>5840</td>\n",
       "    </tr>\n",
       "    <tr>\n",
       "      <th>1</th>\n",
       "      <td>Air India</td>\n",
       "      <td>Mumbai</td>\n",
       "      <td>Night</td>\n",
       "      <td>two_or_more</td>\n",
       "      <td>Afternoon</td>\n",
       "      <td>Delhi</td>\n",
       "      <td>Economy</td>\n",
       "      <td>15.17</td>\n",
       "      <td>44</td>\n",
       "      <td>19788</td>\n",
       "    </tr>\n",
       "    <tr>\n",
       "      <th>2</th>\n",
       "      <td>Air India</td>\n",
       "      <td>Kolkata</td>\n",
       "      <td>Morning</td>\n",
       "      <td>one</td>\n",
       "      <td>Late_Night</td>\n",
       "      <td>Bangalore</td>\n",
       "      <td>Business</td>\n",
       "      <td>13.75</td>\n",
       "      <td>43</td>\n",
       "      <td>67075</td>\n",
       "    </tr>\n",
       "    <tr>\n",
       "      <th>3</th>\n",
       "      <td>Vistara</td>\n",
       "      <td>Hyderabad</td>\n",
       "      <td>Night</td>\n",
       "      <td>one</td>\n",
       "      <td>Evening</td>\n",
       "      <td>Mumbai</td>\n",
       "      <td>Business</td>\n",
       "      <td>19.92</td>\n",
       "      <td>18</td>\n",
       "      <td>106146</td>\n",
       "    </tr>\n",
       "    <tr>\n",
       "      <th>4</th>\n",
       "      <td>GO_FIRST</td>\n",
       "      <td>Chennai</td>\n",
       "      <td>Evening</td>\n",
       "      <td>one</td>\n",
       "      <td>Late_Night</td>\n",
       "      <td>Delhi</td>\n",
       "      <td>Economy</td>\n",
       "      <td>7.00</td>\n",
       "      <td>21</td>\n",
       "      <td>2983</td>\n",
       "    </tr>\n",
       "  </tbody>\n",
       "</table>\n",
       "</div>"
      ],
      "text/plain": [
       "     airline source_city departure_time        stops arrival_time  \\\n",
       "0     Indigo     Kolkata          Night         zero   Late_Night   \n",
       "1  Air India      Mumbai          Night  two_or_more    Afternoon   \n",
       "2  Air India     Kolkata        Morning          one   Late_Night   \n",
       "3    Vistara   Hyderabad          Night          one      Evening   \n",
       "4   GO_FIRST     Chennai        Evening          one   Late_Night   \n",
       "\n",
       "  destination_city     class  duration  days_left   price  \n",
       "0        Bangalore   Economy      2.75         11    5840  \n",
       "1            Delhi   Economy     15.17         44   19788  \n",
       "2        Bangalore  Business     13.75         43   67075  \n",
       "3           Mumbai  Business     19.92         18  106146  \n",
       "4            Delhi   Economy      7.00         21    2983  "
      ]
     },
     "execution_count": 26,
     "metadata": {},
     "output_type": "execute_result"
    }
   ],
   "source": [
    "df.head()"
   ]
  },
  {
   "cell_type": "code",
   "execution_count": 27,
   "id": "50dae6de-c2ac-4b42-b244-6ba6b6c3af70",
   "metadata": {},
   "outputs": [],
   "source": [
    "# Exporting a single DataFrame to an Excel file\n",
    "df.to_excel('output.xlsx', sheet_name='Sheet1', index=False)\n"
   ]
  },
  {
   "cell_type": "code",
   "execution_count": 28,
   "id": "c5a2c899-576e-4444-836b-c7d886289cdb",
   "metadata": {},
   "outputs": [
    {
     "name": "stdout",
     "output_type": "stream",
     "text": [
      "Unique value counts of  airline Enlisted as Below Table :\n",
      "----------------------------------------\n",
      "airline\n",
      "Vistara              21035\n",
      "Air India            13234\n",
      "Indigo                7215\n",
      "GO_FIRST              3794\n",
      "AirAsia               2673\n",
      "SpiceJet              1505\n",
      "Air India Express       32\n",
      "AkasaAir                 1\n",
      "Name: count, dtype: int64\n",
      "************************************************************************************************************************\n",
      "Unique value counts of  source_city Enlisted as Below Table :\n",
      "----------------------------------------\n",
      "source_city\n",
      "Delhi        10107\n",
      "Mumbai       10044\n",
      "Bangalore     8592\n",
      "Kolkata       7652\n",
      "Hyderabad     6577\n",
      "Chennai       6496\n",
      "Goa             21\n",
      "Name: count, dtype: int64\n",
      "************************************************************************************************************************\n",
      "Unique value counts of  departure_time Enlisted as Below Table :\n",
      "----------------------------------------\n",
      "departure_time\n",
      "Morning          11720\n",
      "Early_Morning    10890\n",
      "Evening          10700\n",
      "Night             8100\n",
      "Afternoon         7874\n",
      "Late_Night         205\n",
      "Name: count, dtype: int64\n",
      "************************************************************************************************************************\n",
      "Unique value counts of  stops Enlisted as Below Table :\n",
      "----------------------------------------\n",
      "stops\n",
      "one            41196\n",
      "zero            5946\n",
      "two_or_more     2347\n",
      "Name: count, dtype: int64\n",
      "************************************************************************************************************************\n",
      "Unique value counts of  arrival_time Enlisted as Below Table :\n",
      "----------------------------------------\n",
      "arrival_time\n",
      "Night            14975\n",
      "Evening          12926\n",
      "Morning          10364\n",
      "Afternoon         6288\n",
      "Early_Morning     2488\n",
      "Late_Night        2448\n",
      "Name: count, dtype: int64\n",
      "************************************************************************************************************************\n",
      "Unique value counts of  destination_city Enlisted as Below Table :\n",
      "----------------------------------------\n",
      "destination_city\n",
      "Mumbai       9726\n",
      "Delhi        9593\n",
      "Bangalore    8490\n",
      "Kolkata      8229\n",
      "Hyderabad    6868\n",
      "Chennai      6569\n",
      "Goa            14\n",
      "Name: count, dtype: int64\n",
      "************************************************************************************************************************\n",
      "Unique value counts of  class Enlisted as Below Table :\n",
      "----------------------------------------\n",
      "class\n",
      "Economy     34214\n",
      "Business    15275\n",
      "Name: count, dtype: int64\n",
      "************************************************************************************************************************\n"
     ]
    }
   ],
   "source": [
    "for i in Categorical:\n",
    "    print('Unique value counts of ',i, 'Enlisted as Below Table :')\n",
    "    print('-'*40)\n",
    "    print(df[i].value_counts())\n",
    "    print(\"*\"*120)"
   ]
  },
  {
   "cell_type": "code",
   "execution_count": 29,
   "id": "39622e8f-64c2-4380-8f32-9e82556cd981",
   "metadata": {},
   "outputs": [
    {
     "data": {
      "text/plain": [
       "airline\n",
       "Vistara              20816\n",
       "Air India            13096\n",
       "Indigo                7139\n",
       "GO_FIRST              3764\n",
       "AirAsia               2645\n",
       "SpiceJet              1492\n",
       "Air India Express       31\n",
       "Other                    1\n",
       "Name: count, dtype: int64"
      ]
     },
     "execution_count": 29,
     "metadata": {},
     "output_type": "execute_result"
    }
   ],
   "source": [
    "# As Airline is Nominal Categorical data we will perform OneHotEncoding\n",
    "airline = df[[\"airline\"]]\n",
    "Current_airline_List = airline['airline']\n",
    "New_airline_List = []\n",
    "\n",
    "for carrier in Current_airline_List:\n",
    "  if carrier in ['Vistara','Air_India','Indigo','GO_FIRST','AirAsia','SpiceJet','Air India','Air India Express']:\n",
    "    New_airline_List.append(carrier)\n",
    "  else:\n",
    "    New_airline_List.append('Other')\n",
    "\n",
    "airline['airline'] = pd.DataFrame(New_airline_List)\n",
    "airline['airline'].value_counts()"
   ]
  },
  {
   "cell_type": "code",
   "execution_count": 30,
   "id": "e498b78e-d10d-40b0-a7f5-5b209630f5b9",
   "metadata": {},
   "outputs": [],
   "source": [
    "df['airline'] = airline['airline']"
   ]
  },
  {
   "cell_type": "code",
   "execution_count": 31,
   "id": "50a5e22c-512a-4a90-84cb-b50ea005a668",
   "metadata": {},
   "outputs": [
    {
     "data": {
      "text/plain": [
       "airline\n",
       "Vistara              20816\n",
       "Air India            13096\n",
       "Indigo                7139\n",
       "GO_FIRST              3764\n",
       "AirAsia               2645\n",
       "SpiceJet              1492\n",
       "Air India Express       31\n",
       "Other                    1\n",
       "Name: count, dtype: int64"
      ]
     },
     "execution_count": 31,
     "metadata": {},
     "output_type": "execute_result"
    }
   ],
   "source": [
    "df['airline'].value_counts()"
   ]
  },
  {
   "cell_type": "code",
   "execution_count": 32,
   "id": "00601fa8-582d-4234-913f-2360e62a4224",
   "metadata": {},
   "outputs": [
    {
     "data": {
      "text/html": [
       "<div>\n",
       "<style scoped>\n",
       "    .dataframe tbody tr th:only-of-type {\n",
       "        vertical-align: middle;\n",
       "    }\n",
       "\n",
       "    .dataframe tbody tr th {\n",
       "        vertical-align: top;\n",
       "    }\n",
       "\n",
       "    .dataframe thead th {\n",
       "        text-align: right;\n",
       "    }\n",
       "</style>\n",
       "<table border=\"1\" class=\"dataframe\">\n",
       "  <thead>\n",
       "    <tr style=\"text-align: right;\">\n",
       "      <th></th>\n",
       "      <th>duration</th>\n",
       "      <th>days_left</th>\n",
       "      <th>price</th>\n",
       "    </tr>\n",
       "  </thead>\n",
       "  <tbody>\n",
       "    <tr>\n",
       "      <th>count</th>\n",
       "      <td>49489.000000</td>\n",
       "      <td>49489.000000</td>\n",
       "      <td>49489.000000</td>\n",
       "    </tr>\n",
       "    <tr>\n",
       "      <th>mean</th>\n",
       "      <td>12.182872</td>\n",
       "      <td>26.049688</td>\n",
       "      <td>25539.652953</td>\n",
       "    </tr>\n",
       "    <tr>\n",
       "      <th>std</th>\n",
       "      <td>7.174551</td>\n",
       "      <td>13.541878</td>\n",
       "      <td>29323.481748</td>\n",
       "    </tr>\n",
       "    <tr>\n",
       "      <th>min</th>\n",
       "      <td>0.830000</td>\n",
       "      <td>1.000000</td>\n",
       "      <td>1013.000000</td>\n",
       "    </tr>\n",
       "    <tr>\n",
       "      <th>25%</th>\n",
       "      <td>6.750000</td>\n",
       "      <td>15.000000</td>\n",
       "      <td>5422.000000</td>\n",
       "    </tr>\n",
       "    <tr>\n",
       "      <th>50%</th>\n",
       "      <td>11.250000</td>\n",
       "      <td>26.000000</td>\n",
       "      <td>8761.000000</td>\n",
       "    </tr>\n",
       "    <tr>\n",
       "      <th>75%</th>\n",
       "      <td>16.080000</td>\n",
       "      <td>38.000000</td>\n",
       "      <td>49040.000000</td>\n",
       "    </tr>\n",
       "    <tr>\n",
       "      <th>max</th>\n",
       "      <td>47.750000</td>\n",
       "      <td>50.000000</td>\n",
       "      <td>189754.000000</td>\n",
       "    </tr>\n",
       "  </tbody>\n",
       "</table>\n",
       "</div>"
      ],
      "text/plain": [
       "           duration     days_left          price\n",
       "count  49489.000000  49489.000000   49489.000000\n",
       "mean      12.182872     26.049688   25539.652953\n",
       "std        7.174551     13.541878   29323.481748\n",
       "min        0.830000      1.000000    1013.000000\n",
       "25%        6.750000     15.000000    5422.000000\n",
       "50%       11.250000     26.000000    8761.000000\n",
       "75%       16.080000     38.000000   49040.000000\n",
       "max       47.750000     50.000000  189754.000000"
      ]
     },
     "execution_count": 32,
     "metadata": {},
     "output_type": "execute_result"
    }
   ],
   "source": [
    "df.describe()"
   ]
  },
  {
   "cell_type": "code",
   "execution_count": 33,
   "id": "b9d996a1-3abb-4844-80c8-667dfa9fc890",
   "metadata": {},
   "outputs": [
    {
     "data": {
      "text/html": [
       "<style type=\"text/css\">\n",
       "</style>\n",
       "<table id=\"T_0d404\">\n",
       "  <thead>\n",
       "    <tr>\n",
       "      <th class=\"blank level0\" >&nbsp;</th>\n",
       "      <th id=\"T_0d404_level0_col0\" class=\"col_heading level0 col0\" >count</th>\n",
       "      <th id=\"T_0d404_level0_col1\" class=\"col_heading level0 col1\" >unique</th>\n",
       "      <th id=\"T_0d404_level0_col2\" class=\"col_heading level0 col2\" >top</th>\n",
       "      <th id=\"T_0d404_level0_col3\" class=\"col_heading level0 col3\" >freq</th>\n",
       "    </tr>\n",
       "  </thead>\n",
       "  <tbody>\n",
       "    <tr>\n",
       "      <th id=\"T_0d404_level0_row0\" class=\"row_heading level0 row0\" >airline</th>\n",
       "      <td id=\"T_0d404_row0_col0\" class=\"data row0 col0\" >48984</td>\n",
       "      <td id=\"T_0d404_row0_col1\" class=\"data row0 col1\" >8</td>\n",
       "      <td id=\"T_0d404_row0_col2\" class=\"data row0 col2\" >Vistara</td>\n",
       "      <td id=\"T_0d404_row0_col3\" class=\"data row0 col3\" >20816</td>\n",
       "    </tr>\n",
       "    <tr>\n",
       "      <th id=\"T_0d404_level0_row1\" class=\"row_heading level0 row1\" >source_city</th>\n",
       "      <td id=\"T_0d404_row1_col0\" class=\"data row1 col0\" >49489</td>\n",
       "      <td id=\"T_0d404_row1_col1\" class=\"data row1 col1\" >7</td>\n",
       "      <td id=\"T_0d404_row1_col2\" class=\"data row1 col2\" >Delhi</td>\n",
       "      <td id=\"T_0d404_row1_col3\" class=\"data row1 col3\" >10107</td>\n",
       "    </tr>\n",
       "    <tr>\n",
       "      <th id=\"T_0d404_level0_row2\" class=\"row_heading level0 row2\" >departure_time</th>\n",
       "      <td id=\"T_0d404_row2_col0\" class=\"data row2 col0\" >49489</td>\n",
       "      <td id=\"T_0d404_row2_col1\" class=\"data row2 col1\" >6</td>\n",
       "      <td id=\"T_0d404_row2_col2\" class=\"data row2 col2\" >Morning</td>\n",
       "      <td id=\"T_0d404_row2_col3\" class=\"data row2 col3\" >11720</td>\n",
       "    </tr>\n",
       "    <tr>\n",
       "      <th id=\"T_0d404_level0_row3\" class=\"row_heading level0 row3\" >stops</th>\n",
       "      <td id=\"T_0d404_row3_col0\" class=\"data row3 col0\" >49489</td>\n",
       "      <td id=\"T_0d404_row3_col1\" class=\"data row3 col1\" >3</td>\n",
       "      <td id=\"T_0d404_row3_col2\" class=\"data row3 col2\" >one</td>\n",
       "      <td id=\"T_0d404_row3_col3\" class=\"data row3 col3\" >41196</td>\n",
       "    </tr>\n",
       "    <tr>\n",
       "      <th id=\"T_0d404_level0_row4\" class=\"row_heading level0 row4\" >arrival_time</th>\n",
       "      <td id=\"T_0d404_row4_col0\" class=\"data row4 col0\" >49489</td>\n",
       "      <td id=\"T_0d404_row4_col1\" class=\"data row4 col1\" >6</td>\n",
       "      <td id=\"T_0d404_row4_col2\" class=\"data row4 col2\" >Night</td>\n",
       "      <td id=\"T_0d404_row4_col3\" class=\"data row4 col3\" >14975</td>\n",
       "    </tr>\n",
       "    <tr>\n",
       "      <th id=\"T_0d404_level0_row5\" class=\"row_heading level0 row5\" >destination_city</th>\n",
       "      <td id=\"T_0d404_row5_col0\" class=\"data row5 col0\" >49489</td>\n",
       "      <td id=\"T_0d404_row5_col1\" class=\"data row5 col1\" >7</td>\n",
       "      <td id=\"T_0d404_row5_col2\" class=\"data row5 col2\" >Mumbai</td>\n",
       "      <td id=\"T_0d404_row5_col3\" class=\"data row5 col3\" >9726</td>\n",
       "    </tr>\n",
       "    <tr>\n",
       "      <th id=\"T_0d404_level0_row6\" class=\"row_heading level0 row6\" >class</th>\n",
       "      <td id=\"T_0d404_row6_col0\" class=\"data row6 col0\" >49489</td>\n",
       "      <td id=\"T_0d404_row6_col1\" class=\"data row6 col1\" >2</td>\n",
       "      <td id=\"T_0d404_row6_col2\" class=\"data row6 col2\" >Economy</td>\n",
       "      <td id=\"T_0d404_row6_col3\" class=\"data row6 col3\" >34214</td>\n",
       "    </tr>\n",
       "  </tbody>\n",
       "</table>\n"
      ],
      "text/plain": [
       "<pandas.io.formats.style.Styler at 0x211957ffbc0>"
      ]
     },
     "execution_count": 33,
     "metadata": {},
     "output_type": "execute_result"
    }
   ],
   "source": [
    "df[Categorical].describe().T.style.background_gradient(cmap='summer_r')"
   ]
  },
  {
   "cell_type": "markdown",
   "id": "bd15a360-b95b-4d71-8324-ae7fed6301cf",
   "metadata": {},
   "source": [
    "#### Observation :\n",
    "- The Minimum flight ticket price is Rs. 1013.00 and Maximum flight ticket price is Rs.189754.00.\n",
    "- The ( mean > median ) for Price,Duration and departure_time which mean right skew data.\n",
    "- Presense of outliers in Duration & Price columns as we see huge difference in 75% and max.\n",
    "- High value of std. deviation indicating spread of data.\n",
    "- There are 9 airline in dataset with maximum flight run by Vistara Airlines.\n",
    "- Long route flight have atleast one 1 stop."
   ]
  },
  {
   "cell_type": "code",
   "execution_count": 34,
   "id": "566ed047-3233-42db-ab45-eeb912cd10ca",
   "metadata": {},
   "outputs": [],
   "source": [
    "inputs_cols=['airline',  'source_city', 'departure_time','stops', 'arrival_time',\n",
    "            'destination_city', 'class', 'duration','days_left' ]\n",
    "targets_col='price'"
   ]
  },
  {
   "cell_type": "code",
   "execution_count": 35,
   "id": "94152cfd-ae86-4ce0-95e2-f087303113d1",
   "metadata": {},
   "outputs": [],
   "source": [
    "Numerical =['duration', 'days_left', 'price']\n",
    "\n",
    "Categorical = [ 'airline', 'source_city', 'departure_time', 'stops', 'arrival_time', 'destination_city', 'class']"
   ]
  },
  {
   "cell_type": "markdown",
   "id": "6fafb45a-b85b-4121-833a-25fe0fd253b5",
   "metadata": {},
   "source": [
    "## Removing outlier from duration"
   ]
  },
  {
   "cell_type": "code",
   "execution_count": 36,
   "id": "61bf061a-f630-439e-9f6d-f4ad49bec8c0",
   "metadata": {},
   "outputs": [
    {
     "data": {
      "text/plain": [
       "<Axes: >"
      ]
     },
     "execution_count": 36,
     "metadata": {},
     "output_type": "execute_result"
    },
    {
     "data": {
      "image/png": "[encoded data removed]",
      "text/plain": [
       "<Figure size 640x480 with 1 Axes>"
      ]
     },
     "metadata": {},
     "output_type": "display_data"
    }
   ],
   "source": [
    "sns.boxplot(df[inputs_cols])"
   ]
  },
  {
   "cell_type": "code",
   "execution_count": 37,
   "id": "d7430461-e7d0-4b0e-903a-59641640adda",
   "metadata": {},
   "outputs": [],
   "source": [
    "# remove the outlier\n",
    "df = df[df.duration <=30]"
   ]
  },
  {
   "cell_type": "code",
   "execution_count": 38,
   "id": "81ed7b87-1716-4179-a6b5-5c5b9d978e50",
   "metadata": {},
   "outputs": [],
   "source": [
    "# remove the outlier\n",
    "df = df[df.price <=100000]"
   ]
  },
  {
   "cell_type": "code",
   "execution_count": 39,
   "id": "8dd1498a-24b0-4bc7-8d43-1342145de629",
   "metadata": {},
   "outputs": [
    {
     "data": {
      "text/html": [
       "<div>\n",
       "<style scoped>\n",
       "    .dataframe tbody tr th:only-of-type {\n",
       "        vertical-align: middle;\n",
       "    }\n",
       "\n",
       "    .dataframe tbody tr th {\n",
       "        vertical-align: top;\n",
       "    }\n",
       "\n",
       "    .dataframe thead th {\n",
       "        text-align: right;\n",
       "    }\n",
       "</style>\n",
       "<table border=\"1\" class=\"dataframe\">\n",
       "  <thead>\n",
       "    <tr style=\"text-align: right;\">\n",
       "      <th></th>\n",
       "      <th>airline</th>\n",
       "      <th>source_city</th>\n",
       "      <th>departure_time</th>\n",
       "      <th>stops</th>\n",
       "      <th>arrival_time</th>\n",
       "      <th>destination_city</th>\n",
       "      <th>class</th>\n",
       "      <th>duration</th>\n",
       "      <th>days_left</th>\n",
       "      <th>price</th>\n",
       "    </tr>\n",
       "  </thead>\n",
       "  <tbody>\n",
       "    <tr>\n",
       "      <th>0</th>\n",
       "      <td>Indigo</td>\n",
       "      <td>Kolkata</td>\n",
       "      <td>Night</td>\n",
       "      <td>zero</td>\n",
       "      <td>Late_Night</td>\n",
       "      <td>Bangalore</td>\n",
       "      <td>Economy</td>\n",
       "      <td>2.75</td>\n",
       "      <td>11</td>\n",
       "      <td>5840</td>\n",
       "    </tr>\n",
       "    <tr>\n",
       "      <th>1</th>\n",
       "      <td>Air India</td>\n",
       "      <td>Mumbai</td>\n",
       "      <td>Night</td>\n",
       "      <td>two_or_more</td>\n",
       "      <td>Afternoon</td>\n",
       "      <td>Delhi</td>\n",
       "      <td>Economy</td>\n",
       "      <td>15.17</td>\n",
       "      <td>44</td>\n",
       "      <td>19788</td>\n",
       "    </tr>\n",
       "    <tr>\n",
       "      <th>2</th>\n",
       "      <td>Air India</td>\n",
       "      <td>Kolkata</td>\n",
       "      <td>Morning</td>\n",
       "      <td>one</td>\n",
       "      <td>Late_Night</td>\n",
       "      <td>Bangalore</td>\n",
       "      <td>Business</td>\n",
       "      <td>13.75</td>\n",
       "      <td>43</td>\n",
       "      <td>67075</td>\n",
       "    </tr>\n",
       "    <tr>\n",
       "      <th>4</th>\n",
       "      <td>GO_FIRST</td>\n",
       "      <td>Chennai</td>\n",
       "      <td>Evening</td>\n",
       "      <td>one</td>\n",
       "      <td>Late_Night</td>\n",
       "      <td>Delhi</td>\n",
       "      <td>Economy</td>\n",
       "      <td>7.00</td>\n",
       "      <td>21</td>\n",
       "      <td>2983</td>\n",
       "    </tr>\n",
       "    <tr>\n",
       "      <th>5</th>\n",
       "      <td>Vistara</td>\n",
       "      <td>Kolkata</td>\n",
       "      <td>Night</td>\n",
       "      <td>one</td>\n",
       "      <td>Evening</td>\n",
       "      <td>Hyderabad</td>\n",
       "      <td>Business</td>\n",
       "      <td>20.58</td>\n",
       "      <td>22</td>\n",
       "      <td>46487</td>\n",
       "    </tr>\n",
       "    <tr>\n",
       "      <th>...</th>\n",
       "      <td>...</td>\n",
       "      <td>...</td>\n",
       "      <td>...</td>\n",
       "      <td>...</td>\n",
       "      <td>...</td>\n",
       "      <td>...</td>\n",
       "      <td>...</td>\n",
       "      <td>...</td>\n",
       "      <td>...</td>\n",
       "      <td>...</td>\n",
       "    </tr>\n",
       "    <tr>\n",
       "      <th>49994</th>\n",
       "      <td>NaN</td>\n",
       "      <td>Bangalore</td>\n",
       "      <td>Evening</td>\n",
       "      <td>zero</td>\n",
       "      <td>Night</td>\n",
       "      <td>Kolkata</td>\n",
       "      <td>Economy</td>\n",
       "      <td>2.33</td>\n",
       "      <td>12</td>\n",
       "      <td>5637</td>\n",
       "    </tr>\n",
       "    <tr>\n",
       "      <th>49995</th>\n",
       "      <td>NaN</td>\n",
       "      <td>Delhi</td>\n",
       "      <td>Early_Morning</td>\n",
       "      <td>one</td>\n",
       "      <td>Evening</td>\n",
       "      <td>Kolkata</td>\n",
       "      <td>Economy</td>\n",
       "      <td>9.50</td>\n",
       "      <td>34</td>\n",
       "      <td>7737</td>\n",
       "    </tr>\n",
       "    <tr>\n",
       "      <th>49996</th>\n",
       "      <td>NaN</td>\n",
       "      <td>Kolkata</td>\n",
       "      <td>Evening</td>\n",
       "      <td>one</td>\n",
       "      <td>Afternoon</td>\n",
       "      <td>Delhi</td>\n",
       "      <td>Economy</td>\n",
       "      <td>22.08</td>\n",
       "      <td>16</td>\n",
       "      <td>9568</td>\n",
       "    </tr>\n",
       "    <tr>\n",
       "      <th>49997</th>\n",
       "      <td>NaN</td>\n",
       "      <td>Mumbai</td>\n",
       "      <td>Morning</td>\n",
       "      <td>one</td>\n",
       "      <td>Night</td>\n",
       "      <td>Bangalore</td>\n",
       "      <td>Economy</td>\n",
       "      <td>13.25</td>\n",
       "      <td>48</td>\n",
       "      <td>6319</td>\n",
       "    </tr>\n",
       "    <tr>\n",
       "      <th>49998</th>\n",
       "      <td>NaN</td>\n",
       "      <td>Delhi</td>\n",
       "      <td>Evening</td>\n",
       "      <td>one</td>\n",
       "      <td>Early_Morning</td>\n",
       "      <td>Kolkata</td>\n",
       "      <td>Economy</td>\n",
       "      <td>13.25</td>\n",
       "      <td>37</td>\n",
       "      <td>8557</td>\n",
       "    </tr>\n",
       "  </tbody>\n",
       "</table>\n",
       "<p>48325 rows × 10 columns</p>\n",
       "</div>"
      ],
      "text/plain": [
       "         airline source_city departure_time        stops   arrival_time  \\\n",
       "0         Indigo     Kolkata          Night         zero     Late_Night   \n",
       "1      Air India      Mumbai          Night  two_or_more      Afternoon   \n",
       "2      Air India     Kolkata        Morning          one     Late_Night   \n",
       "4       GO_FIRST     Chennai        Evening          one     Late_Night   \n",
       "5        Vistara     Kolkata          Night          one        Evening   \n",
       "...          ...         ...            ...          ...            ...   \n",
       "49994        NaN   Bangalore        Evening         zero          Night   \n",
       "49995        NaN       Delhi  Early_Morning          one        Evening   \n",
       "49996        NaN     Kolkata        Evening          one      Afternoon   \n",
       "49997        NaN      Mumbai        Morning          one          Night   \n",
       "49998        NaN       Delhi        Evening          one  Early_Morning   \n",
       "\n",
       "      destination_city     class  duration  days_left  price  \n",
       "0            Bangalore   Economy      2.75         11   5840  \n",
       "1                Delhi   Economy     15.17         44  19788  \n",
       "2            Bangalore  Business     13.75         43  67075  \n",
       "4                Delhi   Economy      7.00         21   2983  \n",
       "5            Hyderabad  Business     20.58         22  46487  \n",
       "...                ...       ...       ...        ...    ...  \n",
       "49994          Kolkata   Economy      2.33         12   5637  \n",
       "49995          Kolkata   Economy      9.50         34   7737  \n",
       "49996            Delhi   Economy     22.08         16   9568  \n",
       "49997        Bangalore   Economy     13.25         48   6319  \n",
       "49998          Kolkata   Economy     13.25         37   8557  \n",
       "\n",
       "[48325 rows x 10 columns]"
      ]
     },
     "execution_count": 39,
     "metadata": {},
     "output_type": "execute_result"
    }
   ],
   "source": [
    "df"
   ]
  },
  {
   "cell_type": "code",
   "execution_count": 40,
   "id": "e394c628-d18e-4218-ab89-985848637c7b",
   "metadata": {},
   "outputs": [
    {
     "data": {
      "text/plain": [
       "<Axes: >"
      ]
     },
     "execution_count": 40,
     "metadata": {},
     "output_type": "execute_result"
    },
    {
     "data": {
      "image/png": "[encoded data removed]",
      "text/plain": [
       "<Figure size 640x480 with 1 Axes>"
      ]
     },
     "metadata": {},
     "output_type": "display_data"
    }
   ],
   "source": [
    "sns.boxplot(df[inputs_cols])"
   ]
  },
  {
   "cell_type": "code",
   "execution_count": 41,
   "id": "8344a955-bc31-4276-925c-5a94c693f1e1",
   "metadata": {},
   "outputs": [
    {
     "data": {
      "image/png": "[encoded data removed]",
      "text/plain": [
       "<Figure size 1800x1000 with 3 Axes>"
      ]
     },
     "metadata": {},
     "output_type": "display_data"
    }
   ],
   "source": [
    "plt.figure(figsize=(18,10),facecolor='white')\n",
    "plotnumber=1\n",
    "\n",
    "for column in Numerical:\n",
    "    if plotnumber<=6:\n",
    "        ax=plt.subplot(2,3,plotnumber)\n",
    "        sns.boxplot(df[column],color='g')\n",
    "        plt.xlabel(column,fontsize=20)\n",
    "    plotnumber+=1\n",
    "plt.show()"
   ]
  },
  {
   "cell_type": "code",
   "execution_count": 42,
   "id": "3b7a35d3-e325-479f-a182-7e6d45153a3f",
   "metadata": {},
   "outputs": [
    {
     "data": {
      "image/png": "[encoded data removed]",
      "text/plain": [
       "<Figure size 1800x1000 with 3 Axes>"
      ]
     },
     "metadata": {},
     "output_type": "display_data"
    }
   ],
   "source": [
    "plt.figure(figsize=(18,10),facecolor='white')\n",
    "plotnumber=1\n",
    "\n",
    "for column in Numerical:\n",
    "    if plotnumber<=6:\n",
    "        ax=plt.subplot(2,3,plotnumber)\n",
    "        sns.boxplot(df[column],color='g')\n",
    "        plt.xlabel(column,fontsize=20)\n",
    "    plotnumber+=1\n",
    "plt.show()"
   ]
  },
  {
   "cell_type": "code",
   "execution_count": 43,
   "id": "c4159ba5",
   "metadata": {},
   "outputs": [
    {
     "data": {
      "text/html": [
       "<div>\n",
       "<style scoped>\n",
       "    .dataframe tbody tr th:only-of-type {\n",
       "        vertical-align: middle;\n",
       "    }\n",
       "\n",
       "    .dataframe tbody tr th {\n",
       "        vertical-align: top;\n",
       "    }\n",
       "\n",
       "    .dataframe thead th {\n",
       "        text-align: right;\n",
       "    }\n",
       "</style>\n",
       "<table border=\"1\" class=\"dataframe\">\n",
       "  <thead>\n",
       "    <tr style=\"text-align: right;\">\n",
       "      <th></th>\n",
       "      <th>airline</th>\n",
       "      <th>source_city</th>\n",
       "      <th>departure_time</th>\n",
       "      <th>stops</th>\n",
       "      <th>arrival_time</th>\n",
       "      <th>destination_city</th>\n",
       "      <th>class</th>\n",
       "      <th>duration</th>\n",
       "      <th>days_left</th>\n",
       "      <th>price</th>\n",
       "    </tr>\n",
       "  </thead>\n",
       "  <tbody>\n",
       "    <tr>\n",
       "      <th>0</th>\n",
       "      <td>Indigo</td>\n",
       "      <td>Kolkata</td>\n",
       "      <td>Night</td>\n",
       "      <td>zero</td>\n",
       "      <td>Late_Night</td>\n",
       "      <td>Bangalore</td>\n",
       "      <td>Economy</td>\n",
       "      <td>2.75</td>\n",
       "      <td>11</td>\n",
       "      <td>5840</td>\n",
       "    </tr>\n",
       "    <tr>\n",
       "      <th>1</th>\n",
       "      <td>Air India</td>\n",
       "      <td>Mumbai</td>\n",
       "      <td>Night</td>\n",
       "      <td>two_or_more</td>\n",
       "      <td>Afternoon</td>\n",
       "      <td>Delhi</td>\n",
       "      <td>Economy</td>\n",
       "      <td>15.17</td>\n",
       "      <td>44</td>\n",
       "      <td>19788</td>\n",
       "    </tr>\n",
       "    <tr>\n",
       "      <th>2</th>\n",
       "      <td>Air India</td>\n",
       "      <td>Kolkata</td>\n",
       "      <td>Morning</td>\n",
       "      <td>one</td>\n",
       "      <td>Late_Night</td>\n",
       "      <td>Bangalore</td>\n",
       "      <td>Business</td>\n",
       "      <td>13.75</td>\n",
       "      <td>43</td>\n",
       "      <td>67075</td>\n",
       "    </tr>\n",
       "    <tr>\n",
       "      <th>4</th>\n",
       "      <td>GO_FIRST</td>\n",
       "      <td>Chennai</td>\n",
       "      <td>Evening</td>\n",
       "      <td>one</td>\n",
       "      <td>Late_Night</td>\n",
       "      <td>Delhi</td>\n",
       "      <td>Economy</td>\n",
       "      <td>7.00</td>\n",
       "      <td>21</td>\n",
       "      <td>2983</td>\n",
       "    </tr>\n",
       "    <tr>\n",
       "      <th>5</th>\n",
       "      <td>Vistara</td>\n",
       "      <td>Kolkata</td>\n",
       "      <td>Night</td>\n",
       "      <td>one</td>\n",
       "      <td>Evening</td>\n",
       "      <td>Hyderabad</td>\n",
       "      <td>Business</td>\n",
       "      <td>20.58</td>\n",
       "      <td>22</td>\n",
       "      <td>46487</td>\n",
       "    </tr>\n",
       "  </tbody>\n",
       "</table>\n",
       "</div>"
      ],
      "text/plain": [
       "     airline source_city departure_time        stops arrival_time  \\\n",
       "0     Indigo     Kolkata          Night         zero   Late_Night   \n",
       "1  Air India      Mumbai          Night  two_or_more    Afternoon   \n",
       "2  Air India     Kolkata        Morning          one   Late_Night   \n",
       "4   GO_FIRST     Chennai        Evening          one   Late_Night   \n",
       "5    Vistara     Kolkata          Night          one      Evening   \n",
       "\n",
       "  destination_city     class  duration  days_left  price  \n",
       "0        Bangalore   Economy      2.75         11   5840  \n",
       "1            Delhi   Economy     15.17         44  19788  \n",
       "2        Bangalore  Business     13.75         43  67075  \n",
       "4            Delhi   Economy      7.00         21   2983  \n",
       "5        Hyderabad  Business     20.58         22  46487  "
      ]
     },
     "execution_count": 43,
     "metadata": {},
     "output_type": "execute_result"
    }
   ],
   "source": [
    "df.head()"
   ]
  },
  {
   "cell_type": "code",
   "execution_count": null,
   "id": "bcacf108-3b2e-41a8-9ffe-4631e345f510",
   "metadata": {},
   "outputs": [],
   "source": []
  },
  {
   "cell_type": "markdown",
   "id": "dd5e9ce6-133d-473e-84c1-f61f276da670",
   "metadata": {},
   "source": [
    "## Encoding"
   ]
  },
  {
   "cell_type": "code",
   "execution_count": 44,
   "id": "c720ecbb-9baa-48e7-95d4-cb1868de2f3b",
   "metadata": {},
   "outputs": [
    {
     "data": {
      "text/html": [
       "<div>\n",
       "<style scoped>\n",
       "    .dataframe tbody tr th:only-of-type {\n",
       "        vertical-align: middle;\n",
       "    }\n",
       "\n",
       "    .dataframe tbody tr th {\n",
       "        vertical-align: top;\n",
       "    }\n",
       "\n",
       "    .dataframe thead th {\n",
       "        text-align: right;\n",
       "    }\n",
       "</style>\n",
       "<table border=\"1\" class=\"dataframe\">\n",
       "  <thead>\n",
       "    <tr style=\"text-align: right;\">\n",
       "      <th></th>\n",
       "      <th>airline_Air India Express</th>\n",
       "      <th>airline_AirAsia</th>\n",
       "      <th>airline_GO_FIRST</th>\n",
       "      <th>airline_Indigo</th>\n",
       "      <th>airline_Other</th>\n",
       "      <th>airline_SpiceJet</th>\n",
       "      <th>airline_Vistara</th>\n",
       "    </tr>\n",
       "  </thead>\n",
       "  <tbody>\n",
       "    <tr>\n",
       "      <th>0</th>\n",
       "      <td>0</td>\n",
       "      <td>0</td>\n",
       "      <td>0</td>\n",
       "      <td>1</td>\n",
       "      <td>0</td>\n",
       "      <td>0</td>\n",
       "      <td>0</td>\n",
       "    </tr>\n",
       "    <tr>\n",
       "      <th>1</th>\n",
       "      <td>0</td>\n",
       "      <td>0</td>\n",
       "      <td>0</td>\n",
       "      <td>0</td>\n",
       "      <td>0</td>\n",
       "      <td>0</td>\n",
       "      <td>0</td>\n",
       "    </tr>\n",
       "    <tr>\n",
       "      <th>2</th>\n",
       "      <td>0</td>\n",
       "      <td>0</td>\n",
       "      <td>0</td>\n",
       "      <td>0</td>\n",
       "      <td>0</td>\n",
       "      <td>0</td>\n",
       "      <td>0</td>\n",
       "    </tr>\n",
       "    <tr>\n",
       "      <th>4</th>\n",
       "      <td>0</td>\n",
       "      <td>0</td>\n",
       "      <td>1</td>\n",
       "      <td>0</td>\n",
       "      <td>0</td>\n",
       "      <td>0</td>\n",
       "      <td>0</td>\n",
       "    </tr>\n",
       "    <tr>\n",
       "      <th>5</th>\n",
       "      <td>0</td>\n",
       "      <td>0</td>\n",
       "      <td>0</td>\n",
       "      <td>0</td>\n",
       "      <td>0</td>\n",
       "      <td>0</td>\n",
       "      <td>1</td>\n",
       "    </tr>\n",
       "  </tbody>\n",
       "</table>\n",
       "</div>"
      ],
      "text/plain": [
       "   airline_Air India Express  airline_AirAsia  airline_GO_FIRST  \\\n",
       "0                          0                0                 0   \n",
       "1                          0                0                 0   \n",
       "2                          0                0                 0   \n",
       "4                          0                0                 1   \n",
       "5                          0                0                 0   \n",
       "\n",
       "   airline_Indigo  airline_Other  airline_SpiceJet  airline_Vistara  \n",
       "0               1              0                 0                0  \n",
       "1               0              0                 0                0  \n",
       "2               0              0                 0                0  \n",
       "4               0              0                 0                0  \n",
       "5               0              0                 0                1  "
      ]
     },
     "execution_count": 44,
     "metadata": {},
     "output_type": "execute_result"
    }
   ],
   "source": [
    "airline = df[[\"airline\"]]\n",
    "airline = pd.get_dummies(airline, drop_first= True, dtype=int) \n",
    "# drop_first= True means we drop the first column to prevent multicollinearity\n",
    "airline.head()"
   ]
  },
  {
   "cell_type": "code",
   "execution_count": 45,
   "id": "e6e66330-e9a8-430f-a7ef-43fd1dd1c8be",
   "metadata": {},
   "outputs": [
    {
     "data": {
      "text/html": [
       "<div>\n",
       "<style scoped>\n",
       "    .dataframe tbody tr th:only-of-type {\n",
       "        vertical-align: middle;\n",
       "    }\n",
       "\n",
       "    .dataframe tbody tr th {\n",
       "        vertical-align: top;\n",
       "    }\n",
       "\n",
       "    .dataframe thead th {\n",
       "        text-align: right;\n",
       "    }\n",
       "</style>\n",
       "<table border=\"1\" class=\"dataframe\">\n",
       "  <thead>\n",
       "    <tr style=\"text-align: right;\">\n",
       "      <th></th>\n",
       "      <th>source_city_Chennai</th>\n",
       "      <th>source_city_Delhi</th>\n",
       "      <th>source_city_Goa</th>\n",
       "      <th>source_city_Hyderabad</th>\n",
       "      <th>source_city_Kolkata</th>\n",
       "      <th>source_city_Mumbai</th>\n",
       "    </tr>\n",
       "  </thead>\n",
       "  <tbody>\n",
       "    <tr>\n",
       "      <th>0</th>\n",
       "      <td>0</td>\n",
       "      <td>0</td>\n",
       "      <td>0</td>\n",
       "      <td>0</td>\n",
       "      <td>1</td>\n",
       "      <td>0</td>\n",
       "    </tr>\n",
       "    <tr>\n",
       "      <th>1</th>\n",
       "      <td>0</td>\n",
       "      <td>0</td>\n",
       "      <td>0</td>\n",
       "      <td>0</td>\n",
       "      <td>0</td>\n",
       "      <td>1</td>\n",
       "    </tr>\n",
       "    <tr>\n",
       "      <th>2</th>\n",
       "      <td>0</td>\n",
       "      <td>0</td>\n",
       "      <td>0</td>\n",
       "      <td>0</td>\n",
       "      <td>1</td>\n",
       "      <td>0</td>\n",
       "    </tr>\n",
       "    <tr>\n",
       "      <th>4</th>\n",
       "      <td>1</td>\n",
       "      <td>0</td>\n",
       "      <td>0</td>\n",
       "      <td>0</td>\n",
       "      <td>0</td>\n",
       "      <td>0</td>\n",
       "    </tr>\n",
       "    <tr>\n",
       "      <th>5</th>\n",
       "      <td>0</td>\n",
       "      <td>0</td>\n",
       "      <td>0</td>\n",
       "      <td>0</td>\n",
       "      <td>1</td>\n",
       "      <td>0</td>\n",
       "    </tr>\n",
       "  </tbody>\n",
       "</table>\n",
       "</div>"
      ],
      "text/plain": [
       "   source_city_Chennai  source_city_Delhi  source_city_Goa  \\\n",
       "0                    0                  0                0   \n",
       "1                    0                  0                0   \n",
       "2                    0                  0                0   \n",
       "4                    1                  0                0   \n",
       "5                    0                  0                0   \n",
       "\n",
       "   source_city_Hyderabad  source_city_Kolkata  source_city_Mumbai  \n",
       "0                      0                    1                   0  \n",
       "1                      0                    0                   1  \n",
       "2                      0                    1                   0  \n",
       "4                      0                    0                   0  \n",
       "5                      0                    1                   0  "
      ]
     },
     "execution_count": 45,
     "metadata": {},
     "output_type": "execute_result"
    }
   ],
   "source": [
    "# As Source is Nominal Categorical data we will perform OneHotEncoding\n",
    "source_city = df[[\"source_city\"]]\n",
    "source_city = pd.get_dummies(source_city, drop_first= True, dtype=int) \n",
    "# drop_first= True means we drop the first column to prevent multicollinearity\n",
    "source_city.head()"
   ]
  },
  {
   "cell_type": "code",
   "execution_count": 46,
   "id": "a61a3c35-0784-455b-9c8b-c19069876f9f",
   "metadata": {},
   "outputs": [
    {
     "data": {
      "text/html": [
       "<div>\n",
       "<style scoped>\n",
       "    .dataframe tbody tr th:only-of-type {\n",
       "        vertical-align: middle;\n",
       "    }\n",
       "\n",
       "    .dataframe tbody tr th {\n",
       "        vertical-align: top;\n",
       "    }\n",
       "\n",
       "    .dataframe thead th {\n",
       "        text-align: right;\n",
       "    }\n",
       "</style>\n",
       "<table border=\"1\" class=\"dataframe\">\n",
       "  <thead>\n",
       "    <tr style=\"text-align: right;\">\n",
       "      <th></th>\n",
       "      <th>destination_city_Chennai</th>\n",
       "      <th>destination_city_Delhi</th>\n",
       "      <th>destination_city_Goa</th>\n",
       "      <th>destination_city_Hyderabad</th>\n",
       "      <th>destination_city_Kolkata</th>\n",
       "      <th>destination_city_Mumbai</th>\n",
       "    </tr>\n",
       "  </thead>\n",
       "  <tbody>\n",
       "    <tr>\n",
       "      <th>0</th>\n",
       "      <td>0</td>\n",
       "      <td>0</td>\n",
       "      <td>0</td>\n",
       "      <td>0</td>\n",
       "      <td>0</td>\n",
       "      <td>0</td>\n",
       "    </tr>\n",
       "    <tr>\n",
       "      <th>1</th>\n",
       "      <td>0</td>\n",
       "      <td>1</td>\n",
       "      <td>0</td>\n",
       "      <td>0</td>\n",
       "      <td>0</td>\n",
       "      <td>0</td>\n",
       "    </tr>\n",
       "    <tr>\n",
       "      <th>2</th>\n",
       "      <td>0</td>\n",
       "      <td>0</td>\n",
       "      <td>0</td>\n",
       "      <td>0</td>\n",
       "      <td>0</td>\n",
       "      <td>0</td>\n",
       "    </tr>\n",
       "    <tr>\n",
       "      <th>4</th>\n",
       "      <td>0</td>\n",
       "      <td>1</td>\n",
       "      <td>0</td>\n",
       "      <td>0</td>\n",
       "      <td>0</td>\n",
       "      <td>0</td>\n",
       "    </tr>\n",
       "    <tr>\n",
       "      <th>5</th>\n",
       "      <td>0</td>\n",
       "      <td>0</td>\n",
       "      <td>0</td>\n",
       "      <td>1</td>\n",
       "      <td>0</td>\n",
       "      <td>0</td>\n",
       "    </tr>\n",
       "  </tbody>\n",
       "</table>\n",
       "</div>"
      ],
      "text/plain": [
       "   destination_city_Chennai  destination_city_Delhi  destination_city_Goa  \\\n",
       "0                         0                       0                     0   \n",
       "1                         0                       1                     0   \n",
       "2                         0                       0                     0   \n",
       "4                         0                       1                     0   \n",
       "5                         0                       0                     0   \n",
       "\n",
       "   destination_city_Hyderabad  destination_city_Kolkata  \\\n",
       "0                           0                         0   \n",
       "1                           0                         0   \n",
       "2                           0                         0   \n",
       "4                           0                         0   \n",
       "5                           1                         0   \n",
       "\n",
       "   destination_city_Mumbai  \n",
       "0                        0  \n",
       "1                        0  \n",
       "2                        0  \n",
       "4                        0  \n",
       "5                        0  "
      ]
     },
     "execution_count": 46,
     "metadata": {},
     "output_type": "execute_result"
    }
   ],
   "source": [
    "# As destination_city is Nominal Categorical data we will perform OneHotEncoding\n",
    "destination_city = df[[\"destination_city\"]]\n",
    "destination_city = pd.get_dummies(destination_city, drop_first= True, dtype=int) \n",
    "# drop_first= True means we drop the first column to prevent multicollinearity\n",
    "destination_city.head()\n"
   ]
  },
  {
   "cell_type": "code",
   "execution_count": 47,
   "id": "43bd9751-3e42-4897-bbfb-b140d7a32c0c",
   "metadata": {},
   "outputs": [
    {
     "data": {
      "text/plain": [
       "stops\n",
       "one            40187\n",
       "zero            5946\n",
       "two_or_more     2192\n",
       "Name: count, dtype: int64"
      ]
     },
     "execution_count": 47,
     "metadata": {},
     "output_type": "execute_result"
    }
   ],
   "source": [
    "df['stops'].value_counts()"
   ]
  },
  {
   "cell_type": "code",
   "execution_count": 48,
   "id": "1c990c6c-0d50-49dd-9ebb-5c4fafb8db2f",
   "metadata": {},
   "outputs": [
    {
     "data": {
      "text/html": [
       "<div>\n",
       "<style scoped>\n",
       "    .dataframe tbody tr th:only-of-type {\n",
       "        vertical-align: middle;\n",
       "    }\n",
       "\n",
       "    .dataframe tbody tr th {\n",
       "        vertical-align: top;\n",
       "    }\n",
       "\n",
       "    .dataframe thead th {\n",
       "        text-align: right;\n",
       "    }\n",
       "</style>\n",
       "<table border=\"1\" class=\"dataframe\">\n",
       "  <thead>\n",
       "    <tr style=\"text-align: right;\">\n",
       "      <th></th>\n",
       "      <th>airline</th>\n",
       "      <th>source_city</th>\n",
       "      <th>departure_time</th>\n",
       "      <th>stops</th>\n",
       "      <th>arrival_time</th>\n",
       "      <th>destination_city</th>\n",
       "      <th>class</th>\n",
       "      <th>duration</th>\n",
       "      <th>days_left</th>\n",
       "      <th>price</th>\n",
       "    </tr>\n",
       "  </thead>\n",
       "  <tbody>\n",
       "    <tr>\n",
       "      <th>0</th>\n",
       "      <td>Indigo</td>\n",
       "      <td>Kolkata</td>\n",
       "      <td>Night</td>\n",
       "      <td>0</td>\n",
       "      <td>Late_Night</td>\n",
       "      <td>Bangalore</td>\n",
       "      <td>Economy</td>\n",
       "      <td>2.75</td>\n",
       "      <td>11</td>\n",
       "      <td>5840</td>\n",
       "    </tr>\n",
       "    <tr>\n",
       "      <th>1</th>\n",
       "      <td>Air India</td>\n",
       "      <td>Mumbai</td>\n",
       "      <td>Night</td>\n",
       "      <td>3</td>\n",
       "      <td>Afternoon</td>\n",
       "      <td>Delhi</td>\n",
       "      <td>Economy</td>\n",
       "      <td>15.17</td>\n",
       "      <td>44</td>\n",
       "      <td>19788</td>\n",
       "    </tr>\n",
       "    <tr>\n",
       "      <th>2</th>\n",
       "      <td>Air India</td>\n",
       "      <td>Kolkata</td>\n",
       "      <td>Morning</td>\n",
       "      <td>1</td>\n",
       "      <td>Late_Night</td>\n",
       "      <td>Bangalore</td>\n",
       "      <td>Business</td>\n",
       "      <td>13.75</td>\n",
       "      <td>43</td>\n",
       "      <td>67075</td>\n",
       "    </tr>\n",
       "    <tr>\n",
       "      <th>4</th>\n",
       "      <td>GO_FIRST</td>\n",
       "      <td>Chennai</td>\n",
       "      <td>Evening</td>\n",
       "      <td>1</td>\n",
       "      <td>Late_Night</td>\n",
       "      <td>Delhi</td>\n",
       "      <td>Economy</td>\n",
       "      <td>7.00</td>\n",
       "      <td>21</td>\n",
       "      <td>2983</td>\n",
       "    </tr>\n",
       "    <tr>\n",
       "      <th>5</th>\n",
       "      <td>Vistara</td>\n",
       "      <td>Kolkata</td>\n",
       "      <td>Night</td>\n",
       "      <td>1</td>\n",
       "      <td>Evening</td>\n",
       "      <td>Hyderabad</td>\n",
       "      <td>Business</td>\n",
       "      <td>20.58</td>\n",
       "      <td>22</td>\n",
       "      <td>46487</td>\n",
       "    </tr>\n",
       "  </tbody>\n",
       "</table>\n",
       "</div>"
      ],
      "text/plain": [
       "     airline source_city departure_time  stops arrival_time destination_city  \\\n",
       "0     Indigo     Kolkata          Night      0   Late_Night        Bangalore   \n",
       "1  Air India      Mumbai          Night      3    Afternoon            Delhi   \n",
       "2  Air India     Kolkata        Morning      1   Late_Night        Bangalore   \n",
       "4   GO_FIRST     Chennai        Evening      1   Late_Night            Delhi   \n",
       "5    Vistara     Kolkata          Night      1      Evening        Hyderabad   \n",
       "\n",
       "      class  duration  days_left  price  \n",
       "0   Economy      2.75         11   5840  \n",
       "1   Economy     15.17         44  19788  \n",
       "2  Business     13.75         43  67075  \n",
       "4   Economy      7.00         21   2983  \n",
       "5  Business     20.58         22  46487  "
      ]
     },
     "execution_count": 48,
     "metadata": {},
     "output_type": "execute_result"
    }
   ],
   "source": [
    "# As this is case of Ordinal Categorical type we perform LabelEncoder\n",
    "# Here Values are assigned with corresponding keys\n",
    "df.replace({\"zero\": 0, \"one\": 1, \"2 stops\": 2, \"two_or_more\": 3}, inplace = True)\n",
    "df.head()"
   ]
  },
  {
   "cell_type": "code",
   "execution_count": 49,
   "id": "b0e287b8",
   "metadata": {},
   "outputs": [],
   "source": [
    "import pickle"
   ]
  },
  {
   "cell_type": "code",
   "execution_count": 50,
   "id": "db4fa439",
   "metadata": {},
   "outputs": [],
   "source": [
    "from sklearn.preprocessing import LabelEncoder\n",
    "\n",
    "# encode the class Column\n",
    "class_encoder = LabelEncoder()\n",
    "class_encoder.fit(df['class'])\n",
    "df['class'] = class_encoder.transform(df['class'])\n",
    "\n",
    "# save the geography encoder \n",
    "with open(\"class_encoder.pkl\", \"wb\") as file:\n",
    "    pickle.dump(class_encoder, file)"
   ]
  },
  {
   "cell_type": "code",
   "execution_count": 51,
   "id": "652df395",
   "metadata": {},
   "outputs": [],
   "source": [
    "from sklearn.preprocessing import LabelEncoder\n",
    "\n",
    "# encode the class Column\n",
    "departure_time_encoder = LabelEncoder()\n",
    "departure_time_encoder.fit(df['departure_time'])\n",
    "df['departure_time'] = departure_time_encoder.transform(df['departure_time'])\n",
    "\n",
    "# save the geography encoder \n",
    "with open(\"departure_time_encoder.pkl\", \"wb\") as file:\n",
    "    pickle.dump(departure_time_encoder, file)"
   ]
  },
  {
   "cell_type": "code",
   "execution_count": 52,
   "id": "d50f299c",
   "metadata": {},
   "outputs": [],
   "source": [
    "from sklearn.preprocessing import LabelEncoder\n",
    "\n",
    "# encode the class Column\n",
    "arrival_time_encoder = LabelEncoder()\n",
    "arrival_time_encoder.fit(df['arrival_time'])\n",
    "df['arrival_time'] = arrival_time_encoder.transform(df['arrival_time'])\n",
    "\n",
    "# save the geography encoder \n",
    "with open(\"arrival_time_encoder.pkl\", \"wb\") as file:\n",
    "    pickle.dump(arrival_time_encoder, file)"
   ]
  },
  {
   "cell_type": "code",
   "execution_count": 53,
   "id": "79cc221d-c69e-4179-a318-58f16dc42668",
   "metadata": {},
   "outputs": [
    {
     "data": {
      "text/html": [
       "<div>\n",
       "<style scoped>\n",
       "    .dataframe tbody tr th:only-of-type {\n",
       "        vertical-align: middle;\n",
       "    }\n",
       "\n",
       "    .dataframe tbody tr th {\n",
       "        vertical-align: top;\n",
       "    }\n",
       "\n",
       "    .dataframe thead th {\n",
       "        text-align: right;\n",
       "    }\n",
       "</style>\n",
       "<table border=\"1\" class=\"dataframe\">\n",
       "  <thead>\n",
       "    <tr style=\"text-align: right;\">\n",
       "      <th></th>\n",
       "      <th>airline</th>\n",
       "      <th>source_city</th>\n",
       "      <th>departure_time</th>\n",
       "      <th>stops</th>\n",
       "      <th>arrival_time</th>\n",
       "      <th>destination_city</th>\n",
       "      <th>class</th>\n",
       "      <th>duration</th>\n",
       "      <th>days_left</th>\n",
       "      <th>price</th>\n",
       "    </tr>\n",
       "  </thead>\n",
       "  <tbody>\n",
       "    <tr>\n",
       "      <th>0</th>\n",
       "      <td>Indigo</td>\n",
       "      <td>Kolkata</td>\n",
       "      <td>5</td>\n",
       "      <td>0</td>\n",
       "      <td>3</td>\n",
       "      <td>Bangalore</td>\n",
       "      <td>1</td>\n",
       "      <td>2.75</td>\n",
       "      <td>11</td>\n",
       "      <td>5840</td>\n",
       "    </tr>\n",
       "    <tr>\n",
       "      <th>1</th>\n",
       "      <td>Air India</td>\n",
       "      <td>Mumbai</td>\n",
       "      <td>5</td>\n",
       "      <td>3</td>\n",
       "      <td>0</td>\n",
       "      <td>Delhi</td>\n",
       "      <td>1</td>\n",
       "      <td>15.17</td>\n",
       "      <td>44</td>\n",
       "      <td>19788</td>\n",
       "    </tr>\n",
       "    <tr>\n",
       "      <th>2</th>\n",
       "      <td>Air India</td>\n",
       "      <td>Kolkata</td>\n",
       "      <td>4</td>\n",
       "      <td>1</td>\n",
       "      <td>3</td>\n",
       "      <td>Bangalore</td>\n",
       "      <td>0</td>\n",
       "      <td>13.75</td>\n",
       "      <td>43</td>\n",
       "      <td>67075</td>\n",
       "    </tr>\n",
       "    <tr>\n",
       "      <th>4</th>\n",
       "      <td>GO_FIRST</td>\n",
       "      <td>Chennai</td>\n",
       "      <td>2</td>\n",
       "      <td>1</td>\n",
       "      <td>3</td>\n",
       "      <td>Delhi</td>\n",
       "      <td>1</td>\n",
       "      <td>7.00</td>\n",
       "      <td>21</td>\n",
       "      <td>2983</td>\n",
       "    </tr>\n",
       "    <tr>\n",
       "      <th>5</th>\n",
       "      <td>Vistara</td>\n",
       "      <td>Kolkata</td>\n",
       "      <td>5</td>\n",
       "      <td>1</td>\n",
       "      <td>2</td>\n",
       "      <td>Hyderabad</td>\n",
       "      <td>0</td>\n",
       "      <td>20.58</td>\n",
       "      <td>22</td>\n",
       "      <td>46487</td>\n",
       "    </tr>\n",
       "  </tbody>\n",
       "</table>\n",
       "</div>"
      ],
      "text/plain": [
       "     airline source_city  departure_time  stops  arrival_time  \\\n",
       "0     Indigo     Kolkata               5      0             3   \n",
       "1  Air India      Mumbai               5      3             0   \n",
       "2  Air India     Kolkata               4      1             3   \n",
       "4   GO_FIRST     Chennai               2      1             3   \n",
       "5    Vistara     Kolkata               5      1             2   \n",
       "\n",
       "  destination_city  class  duration  days_left  price  \n",
       "0        Bangalore      1      2.75         11   5840  \n",
       "1            Delhi      1     15.17         44  19788  \n",
       "2        Bangalore      0     13.75         43  67075  \n",
       "4            Delhi      1      7.00         21   2983  \n",
       "5        Hyderabad      0     20.58         22  46487  "
      ]
     },
     "execution_count": 53,
     "metadata": {},
     "output_type": "execute_result"
    }
   ],
   "source": [
    "# # Using Label Encoder on class variable\n",
    "# from sklearn.preprocessing import LabelEncoder\n",
    "# le = LabelEncoder()\n",
    "# df['class'] = le.fit_transform(df['class'])\n",
    "# df['departure_time'] = le.fit_transform(df['departure_time'])\n",
    "# df['arrival_time'] = le.fit_transform(df['arrival_time'])\n",
    "df.head()"
   ]
  },
  {
   "cell_type": "code",
   "execution_count": 54,
   "id": "2fa0387c-4afb-41c3-a7e6-fc5bd451d987",
   "metadata": {},
   "outputs": [],
   "source": [
    "df.drop(['airline','source_city','destination_city'],axis=1,inplace = True)"
   ]
  },
  {
   "cell_type": "code",
   "execution_count": 55,
   "id": "dc47607f-2548-442a-ba9c-a260f1a20db6",
   "metadata": {},
   "outputs": [
    {
     "data": {
      "text/html": [
       "<div>\n",
       "<style scoped>\n",
       "    .dataframe tbody tr th:only-of-type {\n",
       "        vertical-align: middle;\n",
       "    }\n",
       "\n",
       "    .dataframe tbody tr th {\n",
       "        vertical-align: top;\n",
       "    }\n",
       "\n",
       "    .dataframe thead th {\n",
       "        text-align: right;\n",
       "    }\n",
       "</style>\n",
       "<table border=\"1\" class=\"dataframe\">\n",
       "  <thead>\n",
       "    <tr style=\"text-align: right;\">\n",
       "      <th></th>\n",
       "      <th>departure_time</th>\n",
       "      <th>stops</th>\n",
       "      <th>arrival_time</th>\n",
       "      <th>class</th>\n",
       "      <th>duration</th>\n",
       "      <th>days_left</th>\n",
       "      <th>price</th>\n",
       "    </tr>\n",
       "  </thead>\n",
       "  <tbody>\n",
       "    <tr>\n",
       "      <th>0</th>\n",
       "      <td>5</td>\n",
       "      <td>0</td>\n",
       "      <td>3</td>\n",
       "      <td>1</td>\n",
       "      <td>2.75</td>\n",
       "      <td>11</td>\n",
       "      <td>5840</td>\n",
       "    </tr>\n",
       "    <tr>\n",
       "      <th>1</th>\n",
       "      <td>5</td>\n",
       "      <td>3</td>\n",
       "      <td>0</td>\n",
       "      <td>1</td>\n",
       "      <td>15.17</td>\n",
       "      <td>44</td>\n",
       "      <td>19788</td>\n",
       "    </tr>\n",
       "    <tr>\n",
       "      <th>2</th>\n",
       "      <td>4</td>\n",
       "      <td>1</td>\n",
       "      <td>3</td>\n",
       "      <td>0</td>\n",
       "      <td>13.75</td>\n",
       "      <td>43</td>\n",
       "      <td>67075</td>\n",
       "    </tr>\n",
       "    <tr>\n",
       "      <th>4</th>\n",
       "      <td>2</td>\n",
       "      <td>1</td>\n",
       "      <td>3</td>\n",
       "      <td>1</td>\n",
       "      <td>7.00</td>\n",
       "      <td>21</td>\n",
       "      <td>2983</td>\n",
       "    </tr>\n",
       "    <tr>\n",
       "      <th>5</th>\n",
       "      <td>5</td>\n",
       "      <td>1</td>\n",
       "      <td>2</td>\n",
       "      <td>0</td>\n",
       "      <td>20.58</td>\n",
       "      <td>22</td>\n",
       "      <td>46487</td>\n",
       "    </tr>\n",
       "  </tbody>\n",
       "</table>\n",
       "</div>"
      ],
      "text/plain": [
       "   departure_time  stops  arrival_time  class  duration  days_left  price\n",
       "0               5      0             3      1      2.75         11   5840\n",
       "1               5      3             0      1     15.17         44  19788\n",
       "2               4      1             3      0     13.75         43  67075\n",
       "4               2      1             3      1      7.00         21   2983\n",
       "5               5      1             2      0     20.58         22  46487"
      ]
     },
     "execution_count": 55,
     "metadata": {},
     "output_type": "execute_result"
    }
   ],
   "source": [
    "df.head()"
   ]
  },
  {
   "cell_type": "code",
   "execution_count": 56,
   "id": "32e3eadc-2a00-4977-9cd5-0501132c8b34",
   "metadata": {},
   "outputs": [
    {
     "data": {
      "text/html": [
       "<div>\n",
       "<style scoped>\n",
       "    .dataframe tbody tr th:only-of-type {\n",
       "        vertical-align: middle;\n",
       "    }\n",
       "\n",
       "    .dataframe tbody tr th {\n",
       "        vertical-align: top;\n",
       "    }\n",
       "\n",
       "    .dataframe thead th {\n",
       "        text-align: right;\n",
       "    }\n",
       "</style>\n",
       "<table border=\"1\" class=\"dataframe\">\n",
       "  <thead>\n",
       "    <tr style=\"text-align: right;\">\n",
       "      <th></th>\n",
       "      <th>departure_time</th>\n",
       "      <th>stops</th>\n",
       "      <th>arrival_time</th>\n",
       "      <th>class</th>\n",
       "      <th>duration</th>\n",
       "      <th>days_left</th>\n",
       "      <th>price</th>\n",
       "      <th>airline_Air India Express</th>\n",
       "      <th>airline_AirAsia</th>\n",
       "      <th>airline_GO_FIRST</th>\n",
       "      <th>...</th>\n",
       "      <th>source_city_Goa</th>\n",
       "      <th>source_city_Hyderabad</th>\n",
       "      <th>source_city_Kolkata</th>\n",
       "      <th>source_city_Mumbai</th>\n",
       "      <th>destination_city_Chennai</th>\n",
       "      <th>destination_city_Delhi</th>\n",
       "      <th>destination_city_Goa</th>\n",
       "      <th>destination_city_Hyderabad</th>\n",
       "      <th>destination_city_Kolkata</th>\n",
       "      <th>destination_city_Mumbai</th>\n",
       "    </tr>\n",
       "  </thead>\n",
       "  <tbody>\n",
       "    <tr>\n",
       "      <th>0</th>\n",
       "      <td>5</td>\n",
       "      <td>0</td>\n",
       "      <td>3</td>\n",
       "      <td>1</td>\n",
       "      <td>2.75</td>\n",
       "      <td>11</td>\n",
       "      <td>5840</td>\n",
       "      <td>0</td>\n",
       "      <td>0</td>\n",
       "      <td>0</td>\n",
       "      <td>...</td>\n",
       "      <td>0</td>\n",
       "      <td>0</td>\n",
       "      <td>1</td>\n",
       "      <td>0</td>\n",
       "      <td>0</td>\n",
       "      <td>0</td>\n",
       "      <td>0</td>\n",
       "      <td>0</td>\n",
       "      <td>0</td>\n",
       "      <td>0</td>\n",
       "    </tr>\n",
       "    <tr>\n",
       "      <th>1</th>\n",
       "      <td>5</td>\n",
       "      <td>3</td>\n",
       "      <td>0</td>\n",
       "      <td>1</td>\n",
       "      <td>15.17</td>\n",
       "      <td>44</td>\n",
       "      <td>19788</td>\n",
       "      <td>0</td>\n",
       "      <td>0</td>\n",
       "      <td>0</td>\n",
       "      <td>...</td>\n",
       "      <td>0</td>\n",
       "      <td>0</td>\n",
       "      <td>0</td>\n",
       "      <td>1</td>\n",
       "      <td>0</td>\n",
       "      <td>1</td>\n",
       "      <td>0</td>\n",
       "      <td>0</td>\n",
       "      <td>0</td>\n",
       "      <td>0</td>\n",
       "    </tr>\n",
       "    <tr>\n",
       "      <th>2</th>\n",
       "      <td>4</td>\n",
       "      <td>1</td>\n",
       "      <td>3</td>\n",
       "      <td>0</td>\n",
       "      <td>13.75</td>\n",
       "      <td>43</td>\n",
       "      <td>67075</td>\n",
       "      <td>0</td>\n",
       "      <td>0</td>\n",
       "      <td>0</td>\n",
       "      <td>...</td>\n",
       "      <td>0</td>\n",
       "      <td>0</td>\n",
       "      <td>1</td>\n",
       "      <td>0</td>\n",
       "      <td>0</td>\n",
       "      <td>0</td>\n",
       "      <td>0</td>\n",
       "      <td>0</td>\n",
       "      <td>0</td>\n",
       "      <td>0</td>\n",
       "    </tr>\n",
       "    <tr>\n",
       "      <th>4</th>\n",
       "      <td>2</td>\n",
       "      <td>1</td>\n",
       "      <td>3</td>\n",
       "      <td>1</td>\n",
       "      <td>7.00</td>\n",
       "      <td>21</td>\n",
       "      <td>2983</td>\n",
       "      <td>0</td>\n",
       "      <td>0</td>\n",
       "      <td>1</td>\n",
       "      <td>...</td>\n",
       "      <td>0</td>\n",
       "      <td>0</td>\n",
       "      <td>0</td>\n",
       "      <td>0</td>\n",
       "      <td>0</td>\n",
       "      <td>1</td>\n",
       "      <td>0</td>\n",
       "      <td>0</td>\n",
       "      <td>0</td>\n",
       "      <td>0</td>\n",
       "    </tr>\n",
       "    <tr>\n",
       "      <th>5</th>\n",
       "      <td>5</td>\n",
       "      <td>1</td>\n",
       "      <td>2</td>\n",
       "      <td>0</td>\n",
       "      <td>20.58</td>\n",
       "      <td>22</td>\n",
       "      <td>46487</td>\n",
       "      <td>0</td>\n",
       "      <td>0</td>\n",
       "      <td>0</td>\n",
       "      <td>...</td>\n",
       "      <td>0</td>\n",
       "      <td>0</td>\n",
       "      <td>1</td>\n",
       "      <td>0</td>\n",
       "      <td>0</td>\n",
       "      <td>0</td>\n",
       "      <td>0</td>\n",
       "      <td>1</td>\n",
       "      <td>0</td>\n",
       "      <td>0</td>\n",
       "    </tr>\n",
       "  </tbody>\n",
       "</table>\n",
       "<p>5 rows × 26 columns</p>\n",
       "</div>"
      ],
      "text/plain": [
       "   departure_time  stops  arrival_time  class  duration  days_left  price  \\\n",
       "0               5      0             3      1      2.75         11   5840   \n",
       "1               5      3             0      1     15.17         44  19788   \n",
       "2               4      1             3      0     13.75         43  67075   \n",
       "4               2      1             3      1      7.00         21   2983   \n",
       "5               5      1             2      0     20.58         22  46487   \n",
       "\n",
       "   airline_Air India Express  airline_AirAsia  airline_GO_FIRST  ...  \\\n",
       "0                          0                0                 0  ...   \n",
       "1                          0                0                 0  ...   \n",
       "2                          0                0                 0  ...   \n",
       "4                          0                0                 1  ...   \n",
       "5                          0                0                 0  ...   \n",
       "\n",
       "   source_city_Goa  source_city_Hyderabad  source_city_Kolkata  \\\n",
       "0                0                      0                    1   \n",
       "1                0                      0                    0   \n",
       "2                0                      0                    1   \n",
       "4                0                      0                    0   \n",
       "5                0                      0                    1   \n",
       "\n",
       "   source_city_Mumbai  destination_city_Chennai  destination_city_Delhi  \\\n",
       "0                   0                         0                       0   \n",
       "1                   1                         0                       1   \n",
       "2                   0                         0                       0   \n",
       "4                   0                         0                       1   \n",
       "5                   0                         0                       0   \n",
       "\n",
       "   destination_city_Goa  destination_city_Hyderabad  destination_city_Kolkata  \\\n",
       "0                     0                           0                         0   \n",
       "1                     0                           0                         0   \n",
       "2                     0                           0                         0   \n",
       "4                     0                           0                         0   \n",
       "5                     0                           1                         0   \n",
       "\n",
       "   destination_city_Mumbai  \n",
       "0                        0  \n",
       "1                        0  \n",
       "2                        0  \n",
       "4                        0  \n",
       "5                        0  \n",
       "\n",
       "[5 rows x 26 columns]"
      ]
     },
     "execution_count": 56,
     "metadata": {},
     "output_type": "execute_result"
    }
   ],
   "source": [
    "final_df = pd.concat([df,airline,source_city,destination_city],axis=1)\n",
    "final_df.head()"
   ]
  },
  {
   "cell_type": "code",
   "execution_count": 57,
   "id": "8fcb55ae-1be8-4920-bb52-8e0535f46749",
   "metadata": {},
   "outputs": [
    {
     "data": {
      "text/plain": [
       "(48325, 26)"
      ]
     },
     "execution_count": 57,
     "metadata": {},
     "output_type": "execute_result"
    }
   ],
   "source": [
    "final_df.shape"
   ]
  },
  {
   "cell_type": "code",
   "execution_count": 58,
   "id": "095c4c31-eec6-40ea-bd34-5f491b39edf7",
   "metadata": {},
   "outputs": [
    {
     "data": {
      "text/plain": [
       "Index(['departure_time', 'stops', 'arrival_time', 'class', 'duration',\n",
       "       'days_left', 'price', 'airline_Air India Express', 'airline_AirAsia',\n",
       "       'airline_GO_FIRST', 'airline_Indigo', 'airline_Other',\n",
       "       'airline_SpiceJet', 'airline_Vistara', 'source_city_Chennai',\n",
       "       'source_city_Delhi', 'source_city_Goa', 'source_city_Hyderabad',\n",
       "       'source_city_Kolkata', 'source_city_Mumbai', 'destination_city_Chennai',\n",
       "       'destination_city_Delhi', 'destination_city_Goa',\n",
       "       'destination_city_Hyderabad', 'destination_city_Kolkata',\n",
       "       'destination_city_Mumbai'],\n",
       "      dtype='object')"
      ]
     },
     "execution_count": 58,
     "metadata": {},
     "output_type": "execute_result"
    }
   ],
   "source": [
    "final_df.columns"
   ]
  },
  {
   "cell_type": "code",
   "execution_count": 59,
   "id": "3e4b5c02-67d6-4b8b-8d9b-5863c1dab517",
   "metadata": {},
   "outputs": [],
   "source": [
    "x = final_df.drop('price',axis=1)\n",
    "y = final_df['price']"
   ]
  },
  {
   "cell_type": "code",
   "execution_count": 60,
   "id": "d7090bdd-07b7-48b0-bd70-d163d490f96c",
   "metadata": {},
   "outputs": [
    {
     "name": "stdout",
     "output_type": "stream",
     "text": [
      "(48325, 25) (48325,)\n"
     ]
    }
   ],
   "source": [
    "print(x.shape, y.shape)"
   ]
  },
  {
   "cell_type": "markdown",
   "id": "f7b4b7c1-09eb-43c8-be94-ae467faccf76",
   "metadata": {},
   "source": [
    "## Spliting data into train,test data"
   ]
  },
  {
   "cell_type": "code",
   "execution_count": 61,
   "id": "557a10a5-f9d4-463b-bae5-72f07a5365ad",
   "metadata": {},
   "outputs": [],
   "source": [
    "from sklearn.model_selection import train_test_split"
   ]
  },
  {
   "cell_type": "code",
   "execution_count": 62,
   "id": "91e205bc-2dc9-4e3f-b814-738e61d43491",
   "metadata": {},
   "outputs": [
    {
     "name": "stdout",
     "output_type": "stream",
     "text": [
      "Training feature matrix size: (33827, 25)\n",
      "Training target vector size: (33827,)\n",
      "Test feature matrix size: (14498, 25)\n",
      "Test target vector size: (14498,)\n"
     ]
    }
   ],
   "source": [
    "x_train, x_test, y_train, y_test =  train_test_split(x, y, train_size=0.7,random_state=42)\n",
    "print('Training feature matrix size:',x_train.shape)\n",
    "print('Training target vector size:',y_train.shape)\n",
    "print('Test feature matrix size:',x_test.shape)\n",
    "print('Test target vector size:',y_test.shape)"
   ]
  },
  {
   "cell_type": "markdown",
   "id": "c00f8d2f-b8c1-42fe-87fd-a17f63449c59",
   "metadata": {},
   "source": [
    "## Applying Different Models"
   ]
  },
  {
   "cell_type": "code",
   "execution_count": 63,
   "id": "dfc06274-063e-41f1-ad3a-91c77426f9ee",
   "metadata": {},
   "outputs": [],
   "source": [
    "from sklearn.linear_model import LinearRegression\n",
    "from sklearn.linear_model import LogisticRegression\n",
    "from sklearn.ensemble import RandomForestRegressor\n",
    "from sklearn.tree import DecisionTreeRegressor\n",
    "import xgboost as xgb\n",
    "from sklearn.ensemble import ExtraTreesRegressor\n",
    "from sklearn.svm import SVR\n",
    "from sklearn.ensemble import AdaBoostRegressor\n",
    "from sklearn.ensemble import  GradientBoostingRegressor\n",
    "from sklearn.neighbors import KNeighborsRegressor\n",
    "from sklearn.metrics import mean_squared_error, mean_absolute_error\n",
    "from sklearn.metrics import r2_score\n",
    "from sklearn.model_selection import train_test_split\n",
    "from sklearn.linear_model import  Ridge\n",
    "from sklearn.linear_model import  Lasso\n",
    "from xgboost import XGBRegressor"
   ]
  },
  {
   "cell_type": "markdown",
   "id": "1b5f4c41-4598-4b15-96c7-55b21c7ec638",
   "metadata": {},
   "source": [
    "## Linear Regression Base Model"
   ]
  },
  {
   "cell_type": "code",
   "execution_count": 64,
   "id": "4bbd5fab-9fce-46dc-bd10-e8404f12a898",
   "metadata": {},
   "outputs": [
    {
     "data": {
      "text/html": [
       "<style>#sk-container-id-1 {\n",
       "  /* Definition of color scheme common for light and dark mode */\n",
       "  --sklearn-color-text: black;\n",
       "  --sklearn-color-line: gray;\n",
       "  /* Definition of color scheme for unfitted estimators */\n",
       "  --sklearn-color-unfitted-level-0: #fff5e6;\n",
       "  --sklearn-color-unfitted-level-1: #f6e4d2;\n",
       "  --sklearn-color-unfitted-level-2: #ffe0b3;\n",
       "  --sklearn-color-unfitted-level-3: chocolate;\n",
       "  /* Definition of color scheme for fitted estimators */\n",
       "  --sklearn-color-fitted-level-0: #f0f8ff;\n",
       "  --sklearn-color-fitted-level-1: #d4ebff;\n",
       "  --sklearn-color-fitted-level-2: #b3dbfd;\n",
       "  --sklearn-color-fitted-level-3: cornflowerblue;\n",
       "\n",
       "  /* Specific color for light theme */\n",
       "  --sklearn-color-text-on-default-background: var(--sg-text-color, var(--theme-code-foreground, var(--jp-content-font-color1, black)));\n",
       "  --sklearn-color-background: var(--sg-background-color, var(--theme-background, var(--jp-layout-color0, white)));\n",
       "  --sklearn-color-border-box: var(--sg-text-color, var(--theme-code-foreground, var(--jp-content-font-color1, black)));\n",
       "  --sklearn-color-icon: #696969;\n",
       "\n",
       "  @media (prefers-color-scheme: dark) {\n",
       "    /* Redefinition of color scheme for dark theme */\n",
       "    --sklearn-color-text-on-default-background: var(--sg-text-color, var(--theme-code-foreground, var(--jp-content-font-color1, white)));\n",
       "    --sklearn-color-background: var(--sg-background-color, var(--theme-background, var(--jp-layout-color0, #111)));\n",
       "    --sklearn-color-border-box: var(--sg-text-color, var(--theme-code-foreground, var(--jp-content-font-color1, white)));\n",
       "    --sklearn-color-icon: #878787;\n",
       "  }\n",
       "}\n",
       "\n",
       "#sk-container-id-1 {\n",
       "  color: var(--sklearn-color-text);\n",
       "}\n",
       "\n",
       "#sk-container-id-1 pre {\n",
       "  padding: 0;\n",
       "}\n",
       "\n",
       "#sk-container-id-1 input.sk-hidden--visually {\n",
       "  border: 0;\n",
       "  clip: rect(1px 1px 1px 1px);\n",
       "  clip: rect(1px, 1px, 1px, 1px);\n",
       "  height: 1px;\n",
       "  margin: -1px;\n",
       "  overflow: hidden;\n",
       "  padding: 0;\n",
       "  position: absolute;\n",
       "  width: 1px;\n",
       "}\n",
       "\n",
       "#sk-container-id-1 div.sk-dashed-wrapped {\n",
       "  border: 1px dashed var(--sklearn-color-line);\n",
       "  margin: 0 0.4em 0.5em 0.4em;\n",
       "  box-sizing: border-box;\n",
       "  padding-bottom: 0.4em;\n",
       "  background-color: var(--sklearn-color-background);\n",
       "}\n",
       "\n",
       "#sk-container-id-1 div.sk-container {\n",
       "  /* jupyter's `normalize.less` sets `[hidden] { display: none; }`\n",
       "     but bootstrap.min.css set `[hidden] { display: none !important; }`\n",
       "     so we also need the `!important` here to be able to override the\n",
       "     default hidden behavior on the sphinx rendered scikit-learn.org.\n",
       "     See: https://github.com/scikit-learn/scikit-learn/issues/21755 */\n",
       "  display: inline-block !important;\n",
       "  position: relative;\n",
       "}\n",
       "\n",
       "#sk-container-id-1 div.sk-text-repr-fallback {\n",
       "  display: none;\n",
       "}\n",
       "\n",
       "div.sk-parallel-item,\n",
       "div.sk-serial,\n",
       "div.sk-item {\n",
       "  /* draw centered vertical line to link estimators */\n",
       "  background-image: linear-gradient(var(--sklearn-color-text-on-default-background), var(--sklearn-color-text-on-default-background));\n",
       "  background-size: 2px 100%;\n",
       "  background-repeat: no-repeat;\n",
       "  background-position: center center;\n",
       "}\n",
       "\n",
       "/* Parallel-specific style estimator block */\n",
       "\n",
       "#sk-container-id-1 div.sk-parallel-item::after {\n",
       "  content: \"\";\n",
       "  width: 100%;\n",
       "  border-bottom: 2px solid var(--sklearn-color-text-on-default-background);\n",
       "  flex-grow: 1;\n",
       "}\n",
       "\n",
       "#sk-container-id-1 div.sk-parallel {\n",
       "  display: flex;\n",
       "  align-items: stretch;\n",
       "  justify-content: center;\n",
       "  background-color: var(--sklearn-color-background);\n",
       "  position: relative;\n",
       "}\n",
       "\n",
       "#sk-container-id-1 div.sk-parallel-item {\n",
       "  display: flex;\n",
       "  flex-direction: column;\n",
       "}\n",
       "\n",
       "#sk-container-id-1 div.sk-parallel-item:first-child::after {\n",
       "  align-self: flex-end;\n",
       "  width: 50%;\n",
       "}\n",
       "\n",
       "#sk-container-id-1 div.sk-parallel-item:last-child::after {\n",
       "  align-self: flex-start;\n",
       "  width: 50%;\n",
       "}\n",
       "\n",
       "#sk-container-id-1 div.sk-parallel-item:only-child::after {\n",
       "  width: 0;\n",
       "}\n",
       "\n",
       "/* Serial-specific style estimator block */\n",
       "\n",
       "#sk-container-id-1 div.sk-serial {\n",
       "  display: flex;\n",
       "  flex-direction: column;\n",
       "  align-items: center;\n",
       "  background-color: var(--sklearn-color-background);\n",
       "  padding-right: 1em;\n",
       "  padding-left: 1em;\n",
       "}\n",
       "\n",
       "\n",
       "/* Toggleable style: style used for estimator/Pipeline/ColumnTransformer box that is\n",
       "clickable and can be expanded/collapsed.\n",
       "- Pipeline and ColumnTransformer use this feature and define the default style\n",
       "- Estimators will overwrite some part of the style using the `sk-estimator` class\n",
       "*/\n",
       "\n",
       "/* Pipeline and ColumnTransformer style (default) */\n",
       "\n",
       "#sk-container-id-1 div.sk-toggleable {\n",
       "  /* Default theme specific background. It is overwritten whether we have a\n",
       "  specific estimator or a Pipeline/ColumnTransformer */\n",
       "  background-color: var(--sklearn-color-background);\n",
       "}\n",
       "\n",
       "/* Toggleable label */\n",
       "#sk-container-id-1 label.sk-toggleable__label {\n",
       "  cursor: pointer;\n",
       "  display: block;\n",
       "  width: 100%;\n",
       "  margin-bottom: 0;\n",
       "  padding: 0.5em;\n",
       "  box-sizing: border-box;\n",
       "  text-align: center;\n",
       "}\n",
       "\n",
       "#sk-container-id-1 label.sk-toggleable__label-arrow:before {\n",
       "  /* Arrow on the left of the label */\n",
       "  content: \"▸\";\n",
       "  float: left;\n",
       "  margin-right: 0.25em;\n",
       "  color: var(--sklearn-color-icon);\n",
       "}\n",
       "\n",
       "#sk-container-id-1 label.sk-toggleable__label-arrow:hover:before {\n",
       "  color: var(--sklearn-color-text);\n",
       "}\n",
       "\n",
       "/* Toggleable content - dropdown */\n",
       "\n",
       "#sk-container-id-1 div.sk-toggleable__content {\n",
       "  max-height: 0;\n",
       "  max-width: 0;\n",
       "  overflow: hidden;\n",
       "  text-align: left;\n",
       "  /* unfitted */\n",
       "  background-color: var(--sklearn-color-unfitted-level-0);\n",
       "}\n",
       "\n",
       "#sk-container-id-1 div.sk-toggleable__content.fitted {\n",
       "  /* fitted */\n",
       "  background-color: var(--sklearn-color-fitted-level-0);\n",
       "}\n",
       "\n",
       "#sk-container-id-1 div.sk-toggleable__content pre {\n",
       "  margin: 0.2em;\n",
       "  border-radius: 0.25em;\n",
       "  color: var(--sklearn-color-text);\n",
       "  /* unfitted */\n",
       "  background-color: var(--sklearn-color-unfitted-level-0);\n",
       "}\n",
       "\n",
       "#sk-container-id-1 div.sk-toggleable__content.fitted pre {\n",
       "  /* unfitted */\n",
       "  background-color: var(--sklearn-color-fitted-level-0);\n",
       "}\n",
       "\n",
       "#sk-container-id-1 input.sk-toggleable__control:checked~div.sk-toggleable__content {\n",
       "  /* Expand drop-down */\n",
       "  max-height: 200px;\n",
       "  max-width: 100%;\n",
       "  overflow: auto;\n",
       "}\n",
       "\n",
       "#sk-container-id-1 input.sk-toggleable__control:checked~label.sk-toggleable__label-arrow:before {\n",
       "  content: \"▾\";\n",
       "}\n",
       "\n",
       "/* Pipeline/ColumnTransformer-specific style */\n",
       "\n",
       "#sk-container-id-1 div.sk-label input.sk-toggleable__control:checked~label.sk-toggleable__label {\n",
       "  color: var(--sklearn-color-text);\n",
       "  background-color: var(--sklearn-color-unfitted-level-2);\n",
       "}\n",
       "\n",
       "#sk-container-id-1 div.sk-label.fitted input.sk-toggleable__control:checked~label.sk-toggleable__label {\n",
       "  background-color: var(--sklearn-color-fitted-level-2);\n",
       "}\n",
       "\n",
       "/* Estimator-specific style */\n",
       "\n",
       "/* Colorize estimator box */\n",
       "#sk-container-id-1 div.sk-estimator input.sk-toggleable__control:checked~label.sk-toggleable__label {\n",
       "  /* unfitted */\n",
       "  background-color: var(--sklearn-color-unfitted-level-2);\n",
       "}\n",
       "\n",
       "#sk-container-id-1 div.sk-estimator.fitted input.sk-toggleable__control:checked~label.sk-toggleable__label {\n",
       "  /* fitted */\n",
       "  background-color: var(--sklearn-color-fitted-level-2);\n",
       "}\n",
       "\n",
       "#sk-container-id-1 div.sk-label label.sk-toggleable__label,\n",
       "#sk-container-id-1 div.sk-label label {\n",
       "  /* The background is the default theme color */\n",
       "  color: var(--sklearn-color-text-on-default-background);\n",
       "}\n",
       "\n",
       "/* On hover, darken the color of the background */\n",
       "#sk-container-id-1 div.sk-label:hover label.sk-toggleable__label {\n",
       "  color: var(--sklearn-color-text);\n",
       "  background-color: var(--sklearn-color-unfitted-level-2);\n",
       "}\n",
       "\n",
       "/* Label box, darken color on hover, fitted */\n",
       "#sk-container-id-1 div.sk-label.fitted:hover label.sk-toggleable__label.fitted {\n",
       "  color: var(--sklearn-color-text);\n",
       "  background-color: var(--sklearn-color-fitted-level-2);\n",
       "}\n",
       "\n",
       "/* Estimator label */\n",
       "\n",
       "#sk-container-id-1 div.sk-label label {\n",
       "  font-family: monospace;\n",
       "  font-weight: bold;\n",
       "  display: inline-block;\n",
       "  line-height: 1.2em;\n",
       "}\n",
       "\n",
       "#sk-container-id-1 div.sk-label-container {\n",
       "  text-align: center;\n",
       "}\n",
       "\n",
       "/* Estimator-specific */\n",
       "#sk-container-id-1 div.sk-estimator {\n",
       "  font-family: monospace;\n",
       "  border: 1px dotted var(--sklearn-color-border-box);\n",
       "  border-radius: 0.25em;\n",
       "  box-sizing: border-box;\n",
       "  margin-bottom: 0.5em;\n",
       "  /* unfitted */\n",
       "  background-color: var(--sklearn-color-unfitted-level-0);\n",
       "}\n",
       "\n",
       "#sk-container-id-1 div.sk-estimator.fitted {\n",
       "  /* fitted */\n",
       "  background-color: var(--sklearn-color-fitted-level-0);\n",
       "}\n",
       "\n",
       "/* on hover */\n",
       "#sk-container-id-1 div.sk-estimator:hover {\n",
       "  /* unfitted */\n",
       "  background-color: var(--sklearn-color-unfitted-level-2);\n",
       "}\n",
       "\n",
       "#sk-container-id-1 div.sk-estimator.fitted:hover {\n",
       "  /* fitted */\n",
       "  background-color: var(--sklearn-color-fitted-level-2);\n",
       "}\n",
       "\n",
       "/* Specification for estimator info (e.g. \"i\" and \"?\") */\n",
       "\n",
       "/* Common style for \"i\" and \"?\" */\n",
       "\n",
       ".sk-estimator-doc-link,\n",
       "a:link.sk-estimator-doc-link,\n",
       "a:visited.sk-estimator-doc-link {\n",
       "  float: right;\n",
       "  font-size: smaller;\n",
       "  line-height: 1em;\n",
       "  font-family: monospace;\n",
       "  background-color: var(--sklearn-color-background);\n",
       "  border-radius: 1em;\n",
       "  height: 1em;\n",
       "  width: 1em;\n",
       "  text-decoration: none !important;\n",
       "  margin-left: 1ex;\n",
       "  /* unfitted */\n",
       "  border: var(--sklearn-color-unfitted-level-1) 1pt solid;\n",
       "  color: var(--sklearn-color-unfitted-level-1);\n",
       "}\n",
       "\n",
       ".sk-estimator-doc-link.fitted,\n",
       "a:link.sk-estimator-doc-link.fitted,\n",
       "a:visited.sk-estimator-doc-link.fitted {\n",
       "  /* fitted */\n",
       "  border: var(--sklearn-color-fitted-level-1) 1pt solid;\n",
       "  color: var(--sklearn-color-fitted-level-1);\n",
       "}\n",
       "\n",
       "/* On hover */\n",
       "div.sk-estimator:hover .sk-estimator-doc-link:hover,\n",
       ".sk-estimator-doc-link:hover,\n",
       "div.sk-label-container:hover .sk-estimator-doc-link:hover,\n",
       ".sk-estimator-doc-link:hover {\n",
       "  /* unfitted */\n",
       "  background-color: var(--sklearn-color-unfitted-level-3);\n",
       "  color: var(--sklearn-color-background);\n",
       "  text-decoration: none;\n",
       "}\n",
       "\n",
       "div.sk-estimator.fitted:hover .sk-estimator-doc-link.fitted:hover,\n",
       ".sk-estimator-doc-link.fitted:hover,\n",
       "div.sk-label-container:hover .sk-estimator-doc-link.fitted:hover,\n",
       ".sk-estimator-doc-link.fitted:hover {\n",
       "  /* fitted */\n",
       "  background-color: var(--sklearn-color-fitted-level-3);\n",
       "  color: var(--sklearn-color-background);\n",
       "  text-decoration: none;\n",
       "}\n",
       "\n",
       "/* Span, style for the box shown on hovering the info icon */\n",
       ".sk-estimator-doc-link span {\n",
       "  display: none;\n",
       "  z-index: 9999;\n",
       "  position: relative;\n",
       "  font-weight: normal;\n",
       "  right: .2ex;\n",
       "  padding: .5ex;\n",
       "  margin: .5ex;\n",
       "  width: min-content;\n",
       "  min-width: 20ex;\n",
       "  max-width: 50ex;\n",
       "  color: var(--sklearn-color-text);\n",
       "  box-shadow: 2pt 2pt 4pt #999;\n",
       "  /* unfitted */\n",
       "  background: var(--sklearn-color-unfitted-level-0);\n",
       "  border: .5pt solid var(--sklearn-color-unfitted-level-3);\n",
       "}\n",
       "\n",
       ".sk-estimator-doc-link.fitted span {\n",
       "  /* fitted */\n",
       "  background: var(--sklearn-color-fitted-level-0);\n",
       "  border: var(--sklearn-color-fitted-level-3);\n",
       "}\n",
       "\n",
       ".sk-estimator-doc-link:hover span {\n",
       "  display: block;\n",
       "}\n",
       "\n",
       "/* \"?\"-specific style due to the `<a>` HTML tag */\n",
       "\n",
       "#sk-container-id-1 a.estimator_doc_link {\n",
       "  float: right;\n",
       "  font-size: 1rem;\n",
       "  line-height: 1em;\n",
       "  font-family: monospace;\n",
       "  background-color: var(--sklearn-color-background);\n",
       "  border-radius: 1rem;\n",
       "  height: 1rem;\n",
       "  width: 1rem;\n",
       "  text-decoration: none;\n",
       "  /* unfitted */\n",
       "  color: var(--sklearn-color-unfitted-level-1);\n",
       "  border: var(--sklearn-color-unfitted-level-1) 1pt solid;\n",
       "}\n",
       "\n",
       "#sk-container-id-1 a.estimator_doc_link.fitted {\n",
       "  /* fitted */\n",
       "  border: var(--sklearn-color-fitted-level-1) 1pt solid;\n",
       "  color: var(--sklearn-color-fitted-level-1);\n",
       "}\n",
       "\n",
       "/* On hover */\n",
       "#sk-container-id-1 a.estimator_doc_link:hover {\n",
       "  /* unfitted */\n",
       "  background-color: var(--sklearn-color-unfitted-level-3);\n",
       "  color: var(--sklearn-color-background);\n",
       "  text-decoration: none;\n",
       "}\n",
       "\n",
       "#sk-container-id-1 a.estimator_doc_link.fitted:hover {\n",
       "  /* fitted */\n",
       "  background-color: var(--sklearn-color-fitted-level-3);\n",
       "}\n",
       "</style><div id=\"sk-container-id-1\" class=\"sk-top-container\"><div class=\"sk-text-repr-fallback\"><pre>LinearRegression()</pre><b>In a Jupyter environment, please rerun this cell to show the HTML representation or trust the notebook. <br />On GitHub, the HTML representation is unable to render, please try loading this page with nbviewer.org.</b></div><div class=\"sk-container\" hidden><div class=\"sk-item\"><div class=\"sk-estimator fitted sk-toggleable\"><input class=\"sk-toggleable__control sk-hidden--visually\" id=\"sk-estimator-id-1\" type=\"checkbox\" checked><label for=\"sk-estimator-id-1\" class=\"sk-toggleable__label fitted sk-toggleable__label-arrow fitted\">&nbsp;&nbsp;LinearRegression<a class=\"sk-estimator-doc-link fitted\" rel=\"noreferrer\" target=\"_blank\" href=\"https://scikit-learn.org/1.5/modules/generated/sklearn.linear_model.LinearRegression.html\">?<span>Documentation for LinearRegression</span></a><span class=\"sk-estimator-doc-link fitted\">i<span>Fitted</span></span></label><div class=\"sk-toggleable__content fitted\"><pre>LinearRegression()</pre></div> </div></div></div></div>"
      ],
      "text/plain": [
       "LinearRegression()"
      ]
     },
     "execution_count": 64,
     "metadata": {},
     "output_type": "execute_result"
    }
   ],
   "source": [
    "# create the model\n",
    "model = LinearRegression()\n",
    "\n",
    "# train the model\n",
    "model.fit(x_train, y_train)"
   ]
  },
  {
   "cell_type": "code",
   "execution_count": 65,
   "id": "d67a1178-c9ed-497e-ad0c-60fd608a6d06",
   "metadata": {},
   "outputs": [],
   "source": [
    "y_pred=model.predict(x_test)"
   ]
  },
  {
   "cell_type": "code",
   "execution_count": 66,
   "id": "62b7d0f3-29df-4cbc-8842-4035b4f6a1c7",
   "metadata": {},
   "outputs": [
    {
     "data": {
      "text/plain": [
       "array([ 6723.9536315 , 60614.47745006,  7811.62816895, ...,\n",
       "       60532.93211572, 65874.64585358,  9185.67712318])"
      ]
     },
     "execution_count": 66,
     "metadata": {},
     "output_type": "execute_result"
    }
   ],
   "source": [
    "model.predict(x_test)"
   ]
  },
  {
   "cell_type": "code",
   "execution_count": 67,
   "id": "89163297-0900-489c-87e9-917597fe0b68",
   "metadata": {},
   "outputs": [
    {
     "name": "stdout",
     "output_type": "stream",
     "text": [
      "\u001b[1m Error :\u001b[0m\n",
      "Mean absolute error : 6081.772127926726\n",
      "Mean squared error : 90271335.02707997\n",
      "Root Mean Squared Error: 9501.122829807011\n",
      "\n",
      "\n",
      "\u001b[1m R2 Score :\u001b[0m\n",
      "0.8785227231421693\n"
     ]
    }
   ],
   "source": [
    "print('\\033[1m'+' Error :'+'\\033[0m')\n",
    "print('Mean absolute error :', mean_absolute_error(y_test,y_pred))\n",
    "print('Mean squared error :', mean_squared_error(y_test,y_pred))\n",
    "print('Root Mean Squared Error:', np.sqrt(mean_squared_error(y_test,y_pred)))\n",
    "print('\\n')\n",
    "from sklearn.metrics import r2_score\n",
    "print('\\033[1m'+' R2 Score :'+'\\033[0m')\n",
    "print(r2_score(y_test,y_pred,multioutput='variance_weighted'))"
   ]
  },
  {
   "cell_type": "markdown",
   "id": "298c02d9-6ed1-49b3-8051-8e174d7bcb73",
   "metadata": {},
   "source": [
    "## Pick Best model for this dataset¶"
   ]
  },
  {
   "cell_type": "code",
   "execution_count": 68,
   "id": "4ab3b53a-66cd-4e4a-95b1-18e0a1c71f8a",
   "metadata": {},
   "outputs": [],
   "source": [
    "# # pick different model and test which is better \n",
    "# Linear_reg = LinearRegression(),\n",
    "# Ride_reg= Ridge()\n",
    "# XGBoost = XGBRegressor()\n",
    "# Random_forest = RandomForestRegressor()\n",
    "# Ada_boost = AdaBoostRegressor()\n",
    "# Grad_boost = GradientBoostingRegressor()"
   ]
  },
  {
   "cell_type": "code",
   "execution_count": 1,
   "id": "6e346711-72af-431b-be01-37d29e5a1836",
   "metadata": {},
   "outputs": [
    {
     "ename": "NameError",
     "evalue": "name 'LinearRegression' is not defined",
     "output_type": "error",
     "traceback": [
      "\u001b[1;31m---------------------------------------------------------------------------\u001b[0m",
      "\u001b[1;31mNameError\u001b[0m                                 Traceback (most recent call last)",
      "Cell \u001b[1;32mIn[1], line 3\u001b[0m\n\u001b[0;32m      1\u001b[0m \u001b[38;5;66;03m# pick different model and test which is better \u001b[39;00m\n\u001b[1;32m----> 3\u001b[0m Linear_reg \u001b[38;5;241m=\u001b[39m \u001b[43mLinearRegression\u001b[49m(),\n\u001b[0;32m      4\u001b[0m Ride_reg\u001b[38;5;241m=\u001b[39m Ridge()\n\u001b[0;32m      5\u001b[0m XGBoost \u001b[38;5;241m=\u001b[39m XGBRegressor()\n",
      "\u001b[1;31mNameError\u001b[0m: name 'LinearRegression' is not defined"
     ]
    }
   ],
   "source": [
    "# pick different model and test which is better \n",
    "\n",
    "Linear_reg = LinearRegression(),\n",
    "Ride_reg= Ridge()\n",
    "XGBoost = XGBRegressor()\n",
    "Random_forest = RandomForestRegressor()\n",
    "Ada_boost = AdaBoostRegressor()\n",
    "Grad_boost = GradientBoostingRegressor()\n",
    "model_li = [Ride_reg,XGBoost,Random_forest,Ada_boost,Grad_boost]\n",
    "for model in model_li:\n",
    "    model.fit(x_train,y_train)\n",
    "    model.score(x_train,y_train)\n",
    "    y_pred = model.predict(x_test)\n",
    "    print('\\n')                                        \n",
    "    print('\\033[1m'+' Error of ', model, ':' +'\\033[0m')\n",
    "    print('Mean absolute error :', mean_absolute_error(y_test,y_pred))\n",
    "    print('Mean squared error :', mean_squared_error(y_test,y_pred))\n",
    "    print('Root Mean Squared Error:', np.sqrt(mean_squared_error(y_test,y_pred)))\n",
    "    print('\\n')\n",
    "\n",
    "    print('\\033[1m'+' R2 Score for test data:'+'\\033[0m')\n",
    "    print(r2_score(y_test,y_pred)) \n",
    "    print('==============================================================================================================')"
   ]
  },
  {
   "cell_type": "code",
   "execution_count": 70,
   "id": "23561d28-0c30-4b49-b680-dddb979ff14b",
   "metadata": {},
   "outputs": [
    {
     "name": "stdout",
     "output_type": "stream",
     "text": [
      "The R2 score of Random Forest :  0.9284307535450818\n"
     ]
    }
   ],
   "source": [
    "# our Final Model  \n",
    "final_model = RandomForestRegressor()\n",
    "final_model.fit(x_train,y_train)\n",
    "print(\"The R2 score of Random Forest : \",r2_score(y_test,Random_forest.predict(x_test)))"
   ]
  },
  {
   "cell_type": "markdown",
   "id": "00fe748c-b2e6-4d92-be78-50e1e005f379",
   "metadata": {},
   "source": [
    "### Save the model"
   ]
  },
  {
   "cell_type": "markdown",
   "id": "b27e102f-9009-466c-a70c-2d40f22c0fce",
   "metadata": {},
   "source": [
    "<!-- ## Standard Scaling -->"
   ]
  },
  {
   "cell_type": "code",
   "execution_count": 71,
   "id": "56ced77d-3186-4ef6-860d-13d9df5e6896",
   "metadata": {},
   "outputs": [],
   "source": [
    "import pickle\n",
    "\n",
    "with open(\"Flight_Fare_Prediction_Model.pkl\", \"wb\") as file:\n",
    "    pickle.dump(final_model, file)"
   ]
  },
  {
   "cell_type": "code",
   "execution_count": 72,
   "id": "46ed47b2-97ee-4920-8710-316ddbd9a00d",
   "metadata": {},
   "outputs": [],
   "source": [
    "# sns.boxplot(df[inputs_cols])"
   ]
  },
  {
   "cell_type": "code",
   "execution_count": 73,
   "id": "62fc64c1-4a2b-4b2d-b4f3-41149fdda7d8",
   "metadata": {},
   "outputs": [],
   "source": [
    "# from sklearn.preprocessing import StandardScaler\n",
    "# scaler= StandardScaler()\n",
    "# array_scaled = scaler.fit_transform(df[inputs_cols])"
   ]
  },
  {
   "cell_type": "code",
   "execution_count": 74,
   "id": "71cf45c4-5940-4bea-b8e5-db6935765d63",
   "metadata": {},
   "outputs": [],
   "source": [
    "# sns.boxplot(df[inputs_cols])"
   ]
  },
  {
   "cell_type": "code",
   "execution_count": 75,
   "id": "10fe9195-1a2c-48f4-aec5-c228799d1fa4",
   "metadata": {},
   "outputs": [],
   "source": [
    "# scaler = MinMaxScaler()\n",
    "# scaler.fit(df[inputs_cols])\n",
    "# df[inputs_cols] = scaler.transform(df[inputs_cols])"
   ]
  },
  {
   "cell_type": "code",
   "execution_count": 76,
   "id": "9be6edf7-08d0-475f-9063-4afa9ce34037",
   "metadata": {},
   "outputs": [],
   "source": [
    "# sns.boxplot(df[inputs_cols])"
   ]
  },
  {
   "cell_type": "code",
   "execution_count": 77,
   "id": "e8ee290a-052c-4521-a743-a5d00fe63726",
   "metadata": {},
   "outputs": [],
   "source": [
    "# df.corr()"
   ]
  },
  {
   "cell_type": "code",
   "execution_count": 78,
   "id": "16c76e16-2922-49f5-ae3c-99e97712b518",
   "metadata": {},
   "outputs": [],
   "source": [
    "# plt.figure(figsize=(25,15))\n",
    "# sns.heatmap(df.corr(), vmin=-1, vmax=1, annot=True, square=True, fmt='0.3f', \n",
    "#             annot_kws={'size':10}, cmap=\"gist_stern\")\n",
    "# plt.xticks(fontsize=12)\n",
    "# plt.yticks(fontsize=12)\n",
    "# plt.show()"
   ]
  },
  {
   "cell_type": "code",
   "execution_count": 79,
   "id": "d69e6224-ac52-458d-bf26-b2cc20c9c0cd",
   "metadata": {},
   "outputs": [],
   "source": [
    "# from sklearn.linear_model import LinearRegression\n",
    "# from sklearn.linear_model import LogisticRegression\n",
    "# from sklearn.ensemble import RandomForestRegressor\n",
    "# from sklearn.tree import DecisionTreeRegressor\n",
    "# import xgboost as xgb\n",
    "# from sklearn.ensemble import ExtraTreesRegressor\n",
    "# from sklearn.svm import SVR\n",
    "# from sklearn.ensemble import AdaBoostRegressor\n",
    "# from sklearn.ensemble import  GradientBoostingRegressor\n",
    "# from sklearn.neighbors import KNeighborsRegressor\n",
    "# from sklearn.metrics import mean_squared_error, mean_absolute_error\n",
    "# from sklearn.metrics import r2_score\n",
    "# from sklearn.model_selection import train_test_split\n",
    "# from sklearn.linear_model import  Ridge\n",
    "# from sklearn.linear_model import  Lasso\n",
    "# from xgboost import XGBRegressor"
   ]
  },
  {
   "cell_type": "markdown",
   "id": "2f440091-c9da-451f-9eaa-f0fd751ceefe",
   "metadata": {},
   "source": [
    "<!-- ## Spliting data into train,test data -->"
   ]
  },
  {
   "cell_type": "code",
   "execution_count": 80,
   "id": "dce9502d-fd95-43ab-893a-9cf45bda1a6c",
   "metadata": {},
   "outputs": [],
   "source": [
    "# x = df.drop(['price'],axis=1)\n",
    "# y = df['price']"
   ]
  },
  {
   "cell_type": "code",
   "execution_count": 81,
   "id": "f6059543-3e05-44a6-a145-b76e65089080",
   "metadata": {},
   "outputs": [],
   "source": [
    "# x.tail()"
   ]
  },
  {
   "cell_type": "code",
   "execution_count": 82,
   "id": "9f8668db-1aed-4b92-b8d1-6ce97ebf0fb8",
   "metadata": {},
   "outputs": [],
   "source": [
    "# y.head()"
   ]
  },
  {
   "cell_type": "code",
   "execution_count": 83,
   "id": "58f734c3-940e-4632-af84-c44f6ae36be1",
   "metadata": {},
   "outputs": [],
   "source": [
    "# x.describe()"
   ]
  },
  {
   "cell_type": "code",
   "execution_count": 84,
   "id": "b51b1744-1310-44a8-bfb6-40d33470fe83",
   "metadata": {},
   "outputs": [],
   "source": [
    "# x_train, x_test, y_train, y_test =  train_test_split(x, y, train_size=0.7,random_state=42)\n",
    "# print('Training feature matrix size:',x_train.shape)\n",
    "# print('Training target vector size:',y_train.shape)\n",
    "# print('Test feature matrix size:',x_test.shape)\n",
    "# print('Test target vector size:',y_test.shape)"
   ]
  },
  {
   "cell_type": "markdown",
   "id": "d6839d59-891f-454f-9994-48fc4bd54c04",
   "metadata": {},
   "source": [
    "<!-- ## Linear Regression Base Model -->"
   ]
  },
  {
   "cell_type": "code",
   "execution_count": 85,
   "id": "e6f999d9-499b-49be-b06f-35fd40cc2fa8",
   "metadata": {},
   "outputs": [],
   "source": [
    "# # create the model\n",
    "# model = LinearRegression()\n",
    "\n",
    "# # train the model\n",
    "# model.fit(x_train, y_train)"
   ]
  },
  {
   "cell_type": "code",
   "execution_count": 86,
   "id": "4811f3d9-fb4d-4c89-a65f-9c567a4eb0a2",
   "metadata": {},
   "outputs": [],
   "source": [
    "# y_pred=model.predict(x_test)"
   ]
  },
  {
   "cell_type": "code",
   "execution_count": 87,
   "id": "1bb665b7-d39d-4853-aef9-4082b93529ef",
   "metadata": {},
   "outputs": [],
   "source": [
    "# model.predict(x_test)"
   ]
  },
  {
   "cell_type": "code",
   "execution_count": 88,
   "id": "ed796461-7a5d-43ee-8ce9-e298114b6786",
   "metadata": {},
   "outputs": [],
   "source": [
    "# print('\\033[1m'+' Error :'+'\\033[0m')\n",
    "# print('Mean absolute error :', mean_absolute_error(y_test,y_pred))\n",
    "# print('Mean squared error :', mean_squared_error(y_test,y_pred))\n",
    "# print('Root Mean Squared Error:', np.sqrt(mean_squared_error(y_test,y_pred)))\n",
    "# print('\\n')\n",
    "# from sklearn.metrics import r2_score\n",
    "# print('\\033[1m'+' R2 Score :'+'\\033[0m')\n",
    "# print(r2_score(y_test,y_pred,multioutput='variance_weighted'))"
   ]
  },
  {
   "cell_type": "markdown",
   "id": "f7b9857a-ecd9-4ecd-87f0-f9d15ba312cd",
   "metadata": {},
   "source": [
    "<!-- ## Pick Best model for this dataset¶ -->"
   ]
  },
  {
   "cell_type": "code",
   "execution_count": 89,
   "id": "d624d8fd-56e2-45e8-b99a-5967e958e203",
   "metadata": {},
   "outputs": [],
   "source": [
    "# # pick different model and test which is better \n",
    "# Linear_reg = LinearRegression(),\n",
    "# Ride_reg= Ridge()\n",
    "# XGBoost = XGBRegressor()\n",
    "# Random_forest = RandomForestRegressor()\n",
    "# Ada_boost = AdaBoostRegressor()\n",
    "# Grad_boost = GradientBoostingRegressor()"
   ]
  },
  {
   "cell_type": "code",
   "execution_count": 90,
   "id": "3243cf0b-cf9e-487f-8246-894b79c26543",
   "metadata": {},
   "outputs": [],
   "source": [
    "# Linear_reg = LinearRegression(),\n",
    "# Ride_reg= Ridge()\n",
    "# XGBoost = XGBRegressor()\n",
    "# Random_forest = RandomForestRegressor()\n",
    "# Ada_boost = AdaBoostRegressor()\n",
    "# Grad_boost = GradientBoostingRegressor()\n",
    "# model_li = [Ride_reg,XGBoost,Random_forest,Ada_boost,Grad_boost]\n",
    "# for model in model_li:\n",
    "#     model.fit(x_train,y_train)\n",
    "#     model.score(x_train,y_train)\n",
    "#     y_pred = model.predict(x_test)\n",
    "#     print('\\n')                                        \n",
    "#     print('\\033[1m'+' Error of ', model, ':' +'\\033[0m')\n",
    "#     print('Mean absolute error :', mean_absolute_error(y_test,y_pred))\n",
    "#     print('Mean squared error :', mean_squared_error(y_test,y_pred))\n",
    "#     print('Root Mean Squared Error:', np.sqrt(mean_squared_error(y_test,y_pred)))\n",
    "#     print('\\n')\n",
    "\n",
    "#     print('\\033[1m'+' R2 Score for test data:'+'\\033[0m')\n",
    "#     print(r2_score(y_test,y_pred)) \n",
    "#     prediction = model.predict([[0.777778,0.375,0.4,1.0,1.0,1.0,1.0,0.045938,0.0]])\n",
    "#     print('Prediction =',prediction)\n",
    "#     print('==============================================================================================================')"
   ]
  },
  {
   "cell_type": "code",
   "execution_count": 91,
   "id": "723f17f2-5f12-46a2-ac86-ca6209bd10f5",
   "metadata": {},
   "outputs": [],
   "source": [
    "# Linear_reg = LinearRegression(),\n",
    "# Ride_reg= Ridge()\n",
    "# XGBoost = XGBRegressor()\n",
    "# Random_forest = RandomForestRegressor()\n",
    "# Ada_boost = AdaBoostRegressor()\n",
    "# Grad_boost = GradientBoostingRegressor()\n",
    "# model_li = [Ride_reg,XGBoost,Random_forest,Ada_boost,Grad_boost]\n",
    "# for model in model_li:\n",
    "#     model.fit(x_train,y_train)\n",
    "#     model.score(x_train,y_train)\n",
    "#     y_pred = model.predict(x_train)\n",
    "#     print('\\n')                                        \n",
    "#     print('\\033[1m'+' Error of ', model, ':' +'\\033[0m')\n",
    "#     print('Mean absolute error :', mean_absolute_error(y_train,y_pred))\n",
    "#     print('Mean squared error :', mean_squared_error(y_train,y_pred))\n",
    "#     print('Root Mean Squared Error:', np.sqrt(mean_squared_error(y_train,y_pred)))\n",
    "#     print('\\n')\n",
    "\n",
    "#     print('\\033[1m'+' R2 Score for train data :'+'\\033[0m')\n",
    "#     print(r2_score(y_train,y_pred)) \n",
    "#     print('==============================================================================================================')"
   ]
  },
  {
   "cell_type": "code",
   "execution_count": 92,
   "id": "41111db5-0fe0-425b-b227-642ddbf1470c",
   "metadata": {},
   "outputs": [],
   "source": [
    "# x.head()"
   ]
  },
  {
   "cell_type": "code",
   "execution_count": 93,
   "id": "157a6116-0434-44d8-a038-bb9a9008c5ca",
   "metadata": {},
   "outputs": [],
   "source": [
    "# model1 = RandomForestRegressor()\n",
    "# model1.fit(x_train,y_train)\n",
    "# model1.score(x_train,y_train)\n",
    "# y_pred = model1.predict(x_train)\n",
    "# print('\\n')                                        \n",
    "# print('\\033[1m'+' Error of ', model1, ':' +'\\033[0m')\n",
    "# print('Mean absolute error :', mean_absolute_error(y_train,y_pred))\n",
    "# print('Mean squared error :', mean_squared_error(y_train,y_pred))\n",
    "# print('Root Mean Squared Error:', np.sqrt(mean_squared_error(y_train,y_pred)))\n",
    "# print('\\n')\n",
    "\n",
    "# print('\\033[1m'+' R2 Score for train data :'+'\\033[0m')\n",
    "# print(r2_score(y_train,y_pred)) "
   ]
  },
  {
   "cell_type": "code",
   "execution_count": 94,
   "id": "8fc58e5d-9ffd-4cd4-911b-398fb664f79d",
   "metadata": {},
   "outputs": [],
   "source": [
    "# prediction1 = model1.predict([[0.777778,0.375,0.4,1.0,1.0,1.0,1.0,0.045938,0.0]])\n",
    "# prediction1"
   ]
  },
  {
   "cell_type": "code",
   "execution_count": 95,
   "id": "661ffaaf-ec82-4f22-940d-a1278d80d8da",
   "metadata": {},
   "outputs": [],
   "source": [
    "# prediction2 = model1.predict([[0.777778,0.375,0.2,1.0,0.8,1.0,1.0,0.051423,0.0]])\n",
    "# prediction2"
   ]
  },
  {
   "cell_type": "code",
   "execution_count": 96,
   "id": "d8e2fe57-bea3-4a7e-970f-5ef3a531d13b",
   "metadata": {},
   "outputs": [],
   "source": [
    "# prediction3 = model1.predict([[0.111111,0.25,1.0,0.5,0.8,0.750,1.0,0.348646,0.877551]])\n",
    "# prediction3"
   ]
  },
  {
   "cell_type": "markdown",
   "id": "36d4087a-9092-4ccc-b4cb-47af0ac47344",
   "metadata": {},
   "source": [
    "<!-- # Regression using DL -->"
   ]
  },
  {
   "cell_type": "code",
   "execution_count": null,
   "id": "7a72132c-94c7-4d99-9ad9-58b6ece63bcf",
   "metadata": {},
   "outputs": [],
   "source": []
  },
  {
   "cell_type": "code",
   "execution_count": null,
   "id": "8ecc2b62-1339-4e8d-9e3e-f109cfcc7778",
   "metadata": {},
   "outputs": [],
   "source": []
  }
 ],
 "metadata": {
  "kernelspec": {
   "display_name": "Python 3",
   "language": "python",
   "name": "python3"
  },
  "language_info": {
   "codemirror_mode": {
    "name": "ipython",
    "version": 3
   },
   "file_extension": ".py",
   "mimetype": "text/x-python",
   "name": "python",
   "nbconvert_exporter": "python",
   "pygments_lexer": "ipython3",
   "version": "3.12.5"
  }
 },
 "nbformat": 4,
 "nbformat_minor": 5
}
